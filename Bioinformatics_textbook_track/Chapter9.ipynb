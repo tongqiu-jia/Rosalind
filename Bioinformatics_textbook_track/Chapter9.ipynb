{
 "cells": [
  {
   "cell_type": "markdown",
   "metadata": {},
   "source": [
    "### BA9A | Trie Construction Problem"
   ]
  },
  {
   "cell_type": "code",
   "execution_count": 1,
   "metadata": {
    "collapsed": false
   },
   "outputs": [],
   "source": [
    "def BuildTrie(patterns):\n",
    "    trie = {0:{}}\n",
    "    tot_n = 1\n",
    "    for pattern in patterns:\n",
    "        currNode = 0\n",
    "        for char in pattern:\n",
    "            if char not in trie[currNode]:\n",
    "                # add edge from currnode\n",
    "                trie[currNode][char] = tot_n\n",
    "                # add new node to the trie\n",
    "                trie[tot_n] = {}\n",
    "                currNode = tot_n\n",
    "                tot_n += 1\n",
    "            else:\n",
    "                currNode = trie[currNode][char]\n",
    "    return trie"
   ]
  },
  {
   "cell_type": "code",
   "execution_count": 2,
   "metadata": {
    "collapsed": false
   },
   "outputs": [],
   "source": [
    "def PrintTrie(trie):\n",
    "    for node in trie:\n",
    "        for symbol in trie[node]:\n",
    "            print str(node)+ '->'+str(trie[node][symbol])+':'+symbol"
   ]
  },
  {
   "cell_type": "code",
   "execution_count": 3,
   "metadata": {
    "collapsed": true
   },
   "outputs": [],
   "source": [
    "with open('../data/rosalind_ba9a.txt') as f:\n",
    "    patterns = [pattern.strip() for pattern in f.readlines()]"
   ]
  },
  {
   "cell_type": "code",
   "execution_count": 4,
   "metadata": {
    "collapsed": false,
    "scrolled": true
   },
   "outputs": [
    {
     "name": "stdout",
     "output_type": "stream",
     "text": [
      "0->1:A\n",
      "0->7:G\n",
      "1->2:T\n",
      "2->3:A\n",
      "2->6:C\n",
      "3->4:G\n",
      "4->5:A\n",
      "7->8:A\n",
      "8->9:T\n"
     ]
    }
   ],
   "source": [
    "trie = BuildTrie(patterns)\n",
    "PrintTrie(trie)"
   ]
  },
  {
   "cell_type": "markdown",
   "metadata": {},
   "source": [
    "### BA9B | Implement TrieMatching"
   ]
  },
  {
   "cell_type": "code",
   "execution_count": 5,
   "metadata": {
    "collapsed": false
   },
   "outputs": [],
   "source": [
    "def PrefixTrieMatching(text, trie):\n",
    "    i = 0\n",
    "    symbol = text[i]\n",
    "    v = 0\n",
    "    spelled_pattern = ''\n",
    "    while True:\n",
    "\n",
    "        if len(trie[v]) == 0:\n",
    "            return spelled_pattern\n",
    "        elif symbol in trie[v]:\n",
    "            spelled_pattern = spelled_pattern + symbol\n",
    "            v = trie[v][symbol]\n",
    "            i += 1\n",
    "            if i<len(text):\n",
    "                symbol = text[i]\n",
    "            else:\n",
    "                pass\n",
    "        else:\n",
    "            return "
   ]
  },
  {
   "cell_type": "code",
   "execution_count": 6,
   "metadata": {
    "collapsed": true
   },
   "outputs": [],
   "source": [
    "def TrieMatching(text, trie):\n",
    "    results = []\n",
    "    for i in range(len(text)-1):\n",
    "        results.append(PrefixTrieMatching(text[i:], trie))\n",
    "    return results  "
   ]
  },
  {
   "cell_type": "code",
   "execution_count": 7,
   "metadata": {
    "collapsed": true
   },
   "outputs": [],
   "source": [
    "with open('../data/rosalind_ba9b.txt') as f:\n",
    "    text = f.readline().strip()\n",
    "    patterns = [line.strip() for line in f.readlines()]"
   ]
  },
  {
   "cell_type": "code",
   "execution_count": 8,
   "metadata": {
    "collapsed": false
   },
   "outputs": [
    {
     "name": "stdout",
     "output_type": "stream",
     "text": [
      "1 4 11 15\n"
     ]
    }
   ],
   "source": [
    "trie = BuildTrie(patterns)\n",
    "result = TrieMatching(text,trie)\n",
    "print ' '.join([str(i) for i in range(len(result)) if result[i] != None])"
   ]
  },
  {
   "cell_type": "markdown",
   "metadata": {},
   "source": [
    "### BA9C | Suffix Tree Construction Problem"
   ]
  },
  {
   "cell_type": "code",
   "execution_count": 9,
   "metadata": {
    "collapsed": true
   },
   "outputs": [],
   "source": [
    "text = 'ATAAATG$'"
   ]
  },
  {
   "cell_type": "code",
   "execution_count": 10,
   "metadata": {
    "collapsed": false
   },
   "outputs": [],
   "source": [
    "def ModifiedSuffixTrie(text):\n",
    "    # trie has keys==nodes, values==dict of its outgoing edge; for each dict, key==symbol, value==(node, position)\n",
    "    trie = {0:{}}\n",
    "    # leaves has keys== leaf nodes, and values==the starting postion of that node in text\n",
    "    leaves = {}\n",
    "    tot_n = 1\n",
    "    for i in range(len(text)):\n",
    "        currNode = 0\n",
    "        for j in range(i, len(text)):\n",
    "            currSymbol = text[j]\n",
    "            if not currSymbol in trie[currNode]:\n",
    "                # add edge from currnode\n",
    "                trie[currNode][currSymbol] = (tot_n,j)\n",
    "                # add new node to the trie\n",
    "                trie[tot_n] = {}\n",
    "                currNode = tot_n\n",
    "                tot_n += 1\n",
    "            else:\n",
    "                currNode = trie[currNode][currSymbol][0]\n",
    "        if len(trie[currNode]) == 0:\n",
    "            leaves[currNode] = i\n",
    "    return trie, leaves"
   ]
  },
  {
   "cell_type": "code",
   "execution_count": 11,
   "metadata": {
    "collapsed": false
   },
   "outputs": [],
   "source": [
    "trie, leaves = ModifiedSuffixTrie(text)"
   ]
  },
  {
   "cell_type": "markdown",
   "metadata": {},
   "source": [
    "### BA9G | Suffix Array Construction Problem"
   ]
  },
  {
   "cell_type": "code",
   "execution_count": 15,
   "metadata": {
    "collapsed": false
   },
   "outputs": [],
   "source": [
    "with open('../data/rosalind_ba9g.txt') as f:\n",
    "    text = f.readline().strip()"
   ]
  },
  {
   "cell_type": "code",
   "execution_count": 16,
   "metadata": {
    "collapsed": true
   },
   "outputs": [],
   "source": [
    "def SuffixArray(text):\n",
    "    ordered_pairs = sorted([(text[i:],i) for i in range(len(text))])\n",
    "    suffix_array = [pair[1] for pair in ordered_pairs]\n",
    "    #print ', '.join(repr(idx) for idx in suffix_array)\n",
    "    return suffix_array"
   ]
  },
  {
   "cell_type": "code",
   "execution_count": 17,
   "metadata": {
    "collapsed": false
   },
   "outputs": [
    {
     "data": {
      "text/plain": [
       "[15, 14, 0, 1, 12, 6, 4, 2, 8, 13, 3, 7, 9, 10, 11, 5]"
      ]
     },
     "execution_count": 17,
     "metadata": {},
     "output_type": "execute_result"
    }
   ],
   "source": [
    "SuffixArray(text)"
   ]
  },
  {
   "cell_type": "markdown",
   "metadata": {},
   "source": [
    "### BA9H | Multiple Pattern Matching with the Suffix Array"
   ]
  },
  {
   "cell_type": "code",
   "execution_count": 34,
   "metadata": {
    "collapsed": true
   },
   "outputs": [],
   "source": [
    "with open('../data/rosalind_ba9h.txt') as f:\n",
    "    text = f.readline().strip()\n",
    "    patterns = [pattern.strip() for pattern in f.readlines()]"
   ]
  },
  {
   "cell_type": "code",
   "execution_count": 35,
   "metadata": {
    "collapsed": false
   },
   "outputs": [],
   "source": [
    "suffix_array = SuffixArray(text)"
   ]
  },
  {
   "cell_type": "code",
   "execution_count": 36,
   "metadata": {
    "collapsed": false
   },
   "outputs": [],
   "source": [
    "def PatternMatchingWithSuffixArray(text, pattern, suffix_array):\n",
    "    minidx = 0\n",
    "    maxidx = len(text)-1\n",
    "    while minidx <= maxidx:\n",
    "        mididx = (minidx+maxidx)//2\n",
    "        if pattern > text[suffix_array[mididx]:]:\n",
    "            minidx = mididx+1\n",
    "        else:\n",
    "            maxidx = mididx-1\n",
    "\n",
    "    if pattern == text[suffix_array[mididx]:suffix_array[mididx]+len(pattern)]:\n",
    "        first = suffix_array[minidx]\n",
    "    else:\n",
    "        print \"pattern does not appear in text\"\n",
    "        return \n",
    "\n",
    "    maxidx = len(text)-1\n",
    "    while minidx <= maxidx:\n",
    "        mididx = (minidx+maxidx)//2\n",
    "        if text[suffix_array[mididx]:].startswith(pattern):\n",
    "            minidx = mididx+1\n",
    "        else:\n",
    "            maxidx = mididx-1\n",
    "    last= suffix_array[maxidx]\n",
    "    return (first, last)"
   ]
  },
  {
   "cell_type": "code",
   "execution_count": 37,
   "metadata": {
    "collapsed": false,
    "scrolled": true
   },
   "outputs": [],
   "source": [
    "positions = []\n",
    "for pattern in patterns:\n",
    "    pair = PatternMatchingWithSuffixArray(text, pattern, suffix_array)\n",
    "    if pair is not None:\n",
    "        positions.append(pair)"
   ]
  },
  {
   "cell_type": "code",
   "execution_count": 38,
   "metadata": {
    "collapsed": false
   },
   "outputs": [
    {
     "name": "stdout",
     "output_type": "stream",
     "text": [
      "1 4 11 15\n"
     ]
    }
   ],
   "source": [
    "print ' '.join([str(pos) for pos in sorted([x for t in positions for x in t])])"
   ]
  },
  {
   "cell_type": "code",
   "execution_count": 39,
   "metadata": {
    "collapsed": false
   },
   "outputs": [
    {
     "name": "stdout",
     "output_type": "stream",
     "text": [
      "1 4 11 15\n"
     ]
    }
   ],
   "source": [
    "# brute force\n",
    "res = []\n",
    "for pattern in patterns:\n",
    "    for i in range(len(text)+1-len(pattern)):\n",
    "        if pattern == text[i:i+len(pattern)]:\n",
    "            res.append(i)\n",
    "            \n",
    "for i in sorted(res):\n",
    "    print i,"
   ]
  },
  {
   "cell_type": "markdown",
   "metadata": {},
   "source": [
    "### BA9I | Burrows-Wheeler Transform Construction Problem"
   ]
  },
  {
   "cell_type": "code",
   "execution_count": 40,
   "metadata": {
    "collapsed": false
   },
   "outputs": [],
   "source": [
    "with open('../data/rosalind_ba9i.txt') as f:\n",
    "    text = f.readline().strip()"
   ]
  },
  {
   "cell_type": "code",
   "execution_count": 41,
   "metadata": {
    "collapsed": false
   },
   "outputs": [],
   "source": [
    "def BWT(text):\n",
    "    M = [text[i:]+text[:i] for i in range(len(text))]\n",
    "    bwt = ''.join([string[-1] for string in sorted(M)])\n",
    "    return bwt"
   ]
  },
  {
   "cell_type": "code",
   "execution_count": 42,
   "metadata": {
    "collapsed": false
   },
   "outputs": [
    {
     "data": {
      "text/plain": [
       "'ACTGGCT$TGCGGC'"
      ]
     },
     "execution_count": 42,
     "metadata": {},
     "output_type": "execute_result"
    }
   ],
   "source": [
    "BWT(text)"
   ]
  },
  {
   "cell_type": "markdown",
   "metadata": {},
   "source": [
    "### BA9J | Reconstruct a String from its Burrows-Wheeler Transform"
   ]
  },
  {
   "cell_type": "code",
   "execution_count": 43,
   "metadata": {
    "collapsed": false
   },
   "outputs": [],
   "source": [
    "def IndexString(string):\n",
    "    tups = {}\n",
    "    tup_list = []\n",
    "    for letter in string:\n",
    "        if letter in tups:\n",
    "            tups[letter] += 1      \n",
    "        else:\n",
    "            tups[letter] = 1\n",
    "        tup_list.append((letter, tups[letter]))\n",
    "    return tup_list"
   ]
  },
  {
   "cell_type": "code",
   "execution_count": 45,
   "metadata": {
    "collapsed": false
   },
   "outputs": [],
   "source": [
    "with open('../data/rosalind_ba9j.txt') as f:\n",
    "    last_col = f.readline().strip()"
   ]
  },
  {
   "cell_type": "code",
   "execution_count": 46,
   "metadata": {
    "collapsed": false
   },
   "outputs": [],
   "source": [
    "def InverseBWT(last_col):\n",
    "    text = [None]*len(last_col)\n",
    "    first_col = IndexString(sorted(last_col))\n",
    "    last_col = IndexString(last_col)\n",
    "    text[0] = first_col[0][0]\n",
    "\n",
    "    symbol = ('$',1)\n",
    "    for i in range(1, len(text)):\n",
    "        idx = last_col.index(symbol)\n",
    "        text[i] = first_col[idx][0]\n",
    "        symbol = first_col[idx]\n",
    "    return ''.join(text[1:]+text[:1])"
   ]
  },
  {
   "cell_type": "code",
   "execution_count": 47,
   "metadata": {
    "collapsed": false
   },
   "outputs": [
    {
     "data": {
      "text/plain": [
       "'TACATCACGT$'"
      ]
     },
     "execution_count": 47,
     "metadata": {},
     "output_type": "execute_result"
    }
   ],
   "source": [
    "InverseBWT(last_col)"
   ]
  },
  {
   "cell_type": "markdown",
   "metadata": {},
   "source": [
    "### BA9K | Last-to-First Mapping Problem"
   ]
  },
  {
   "cell_type": "code",
   "execution_count": 48,
   "metadata": {
    "collapsed": false
   },
   "outputs": [],
   "source": [
    "with open('../data/rosalind_ba9k.txt') as f:\n",
    "    transform = f.readline().strip()\n",
    "    idx = int(f.readline().strip())"
   ]
  },
  {
   "cell_type": "code",
   "execution_count": 49,
   "metadata": {
    "collapsed": true
   },
   "outputs": [],
   "source": [
    "first_col = IndexString(sorted(transform))\n",
    "last_col = IndexString(list(transform))"
   ]
  },
  {
   "cell_type": "code",
   "execution_count": 50,
   "metadata": {
    "collapsed": true
   },
   "outputs": [],
   "source": [
    "def LastToFirst(first_col, last_col, idx):\n",
    "    return first_col.index(last_col[idx])"
   ]
  },
  {
   "cell_type": "code",
   "execution_count": 51,
   "metadata": {
    "collapsed": false
   },
   "outputs": [
    {
     "data": {
      "text/plain": [
       "1"
      ]
     },
     "execution_count": 51,
     "metadata": {},
     "output_type": "execute_result"
    }
   ],
   "source": [
    "LastToFirst(first_col, last_col, idx)"
   ]
  },
  {
   "cell_type": "markdown",
   "metadata": {},
   "source": [
    "### BA9L | Implement BWMatching"
   ]
  },
  {
   "cell_type": "code",
   "execution_count": 52,
   "metadata": {
    "collapsed": false
   },
   "outputs": [],
   "source": [
    "with open('../data/rosalind_ba9l.txt') as f:\n",
    "    transform = f.readline().strip()\n",
    "    patterns = [p for p in f.readline().strip().split()]"
   ]
  },
  {
   "cell_type": "code",
   "execution_count": 53,
   "metadata": {
    "collapsed": false
   },
   "outputs": [],
   "source": [
    "def BWMatching(transform, patterns):\n",
    "    first_col = IndexString(sorted(transform))\n",
    "    last_col = IndexString(list(transform))\n",
    "    first_col_str = ''.join(sorted(transform))\n",
    "    last_col_str = transform\n",
    "\n",
    "    for pattern in patterns:\n",
    "        top = 0\n",
    "        bottom = len(last_col)-1\n",
    "        while top <= bottom:\n",
    "            if len(pattern) > 0:\n",
    "                symbol = pattern[-1]\n",
    "                pattern = pattern[:-1]\n",
    "\n",
    "                if symbol in last_col_str[top:bottom+1]:\n",
    "                    topidx = top + last_col_str[top:bottom+1].index(symbol)\n",
    "                    bottomidx = top + last_col_str[top:bottom+1].rindex(symbol)\n",
    "                    top = LastToFirst(first_col, last_col, topidx)\n",
    "                    bottom = LastToFirst(first_col, last_col, bottomidx)\n",
    "                else:\n",
    "                    #return 0\n",
    "                    print 0,\n",
    "                    break\n",
    "            else:\n",
    "                #return bottom-top+1\n",
    "                print bottom-top+1,\n",
    "                break\n"
   ]
  },
  {
   "cell_type": "code",
   "execution_count": 54,
   "metadata": {
    "collapsed": false
   },
   "outputs": [
    {
     "name": "stdout",
     "output_type": "stream",
     "text": [
      "2 1 1 0 1\n"
     ]
    }
   ],
   "source": [
    "BWMatching(transform,patterns)"
   ]
  }
 ],
 "metadata": {
  "kernelspec": {
   "display_name": "Python 2",
   "language": "python",
   "name": "python2"
  },
  "language_info": {
   "codemirror_mode": {
    "name": "ipython",
    "version": 2
   },
   "file_extension": ".py",
   "mimetype": "text/x-python",
   "name": "python",
   "nbconvert_exporter": "python",
   "pygments_lexer": "ipython2",
   "version": "2.7.13"
  }
 },
 "nbformat": 4,
 "nbformat_minor": 2
}
