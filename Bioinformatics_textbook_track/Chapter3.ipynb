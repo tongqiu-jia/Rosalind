{
 "cells": [
  {
   "cell_type": "markdown",
   "metadata": {},
   "source": [
    "### BA3A | String Composition Problem"
   ]
  },
  {
   "cell_type": "code",
   "execution_count": 1,
   "metadata": {
    "collapsed": false
   },
   "outputs": [],
   "source": [
    "def Composition(text, k):\n",
    "    s = set()\n",
    "    for i in range(len(text)-k+1):\n",
    "        s.add(text[i:i+k])\n",
    "    return sorted(s)"
   ]
  },
  {
   "cell_type": "code",
   "execution_count": 2,
   "metadata": {
    "collapsed": false
   },
   "outputs": [
    {
     "data": {
      "text/plain": [
       "['AATCC', 'ATCCA', 'CAATC', 'CCAAC', 'TCCAA']"
      ]
     },
     "execution_count": 2,
     "metadata": {},
     "output_type": "execute_result"
    }
   ],
   "source": [
    "Composition('CAATCCAAC', k=5)"
   ]
  },
  {
   "cell_type": "markdown",
   "metadata": {},
   "source": [
    "### BA3B | Reconstruct a String from its Genome Path"
   ]
  },
  {
   "cell_type": "code",
   "execution_count": 3,
   "metadata": {
    "collapsed": true
   },
   "outputs": [],
   "source": [
    "def StringFromGenomePath(patterns):\n",
    "    k = len(patterns[0])\n",
    "    s = ''.join([pattern[-1] for pattern in patterns]) \n",
    "    text = patterns[0]+s[1:]\n",
    "    return text"
   ]
  },
  {
   "cell_type": "code",
   "execution_count": 4,
   "metadata": {
    "collapsed": true
   },
   "outputs": [],
   "source": [
    "with open('../data/rosalind_ba3b.txt') as f:\n",
    "    patterns = [p.strip() for p in f.readlines()]"
   ]
  },
  {
   "cell_type": "code",
   "execution_count": 5,
   "metadata": {
    "collapsed": false
   },
   "outputs": [
    {
     "data": {
      "text/plain": [
       "'ACCGAAGCT'"
      ]
     },
     "execution_count": 5,
     "metadata": {},
     "output_type": "execute_result"
    }
   ],
   "source": [
    "StringFromGenomePath(patterns)"
   ]
  },
  {
   "cell_type": "markdown",
   "metadata": {},
   "source": [
    "### BA3C | Overlap Graph Problem"
   ]
  },
  {
   "cell_type": "code",
   "execution_count": 7,
   "metadata": {
    "collapsed": false
   },
   "outputs": [],
   "source": [
    "with open('../data/rosalind_ba3c.txt', 'r') as f:\n",
    "    patterns = [p.strip() for p in f.readlines()]"
   ]
  },
  {
   "cell_type": "code",
   "execution_count": 8,
   "metadata": {
    "collapsed": true
   },
   "outputs": [],
   "source": [
    "def OverlapGraph(patterns):\n",
    "    k = len(patterns[0])\n",
    "    for pattern_a in patterns:\n",
    "        for pattern_b in patterns:\n",
    "            if pattern_a[1:] == pattern_b[:k-1]:\n",
    "                print pattern_a + ' -> '+ pattern_b          "
   ]
  },
  {
   "cell_type": "code",
   "execution_count": 9,
   "metadata": {
    "collapsed": false
   },
   "outputs": [
    {
     "name": "stdout",
     "output_type": "stream",
     "text": [
      "AGGCA -> GGCAT\n",
      "CATGC -> ATGCG\n",
      "GCATG -> CATGC\n",
      "GGCAT -> GCATG\n"
     ]
    }
   ],
   "source": [
    "OverlapGraph(sorted(patterns))"
   ]
  },
  {
   "cell_type": "markdown",
   "metadata": {},
   "source": [
    "### BA3D | De Bruijn Graph from a String Problem"
   ]
  },
  {
   "cell_type": "code",
   "execution_count": 10,
   "metadata": {
    "collapsed": true
   },
   "outputs": [],
   "source": [
    "def DeBruijnGraphOfKmers(patterns):\n",
    "    k=len(patterns[0])\n",
    "    graph_dict = {}\n",
    "    for pattern in patterns:\n",
    "        if pattern[:k-1] not in graph_dict:\n",
    "            graph_dict[pattern[:k-1]] = [pattern[1:]]\n",
    "        else:\n",
    "            graph_dict[pattern[:k-1]].append(pattern[1:])\n",
    "\n",
    "    for node in sorted(graph_dict):\n",
    "        if len(graph_dict[node])>1:\n",
    "            print node + ' ->',\n",
    "            print ','.join([n for n in sorted(graph_dict[node])])\n",
    "        else:\n",
    "            print node + ' -> '+ graph_dict[node][0]   "
   ]
  },
  {
   "cell_type": "code",
   "execution_count": 11,
   "metadata": {
    "collapsed": true
   },
   "outputs": [],
   "source": [
    "def DeBruijnGraphOfString(text, k):\n",
    "    patterns = [text[i:i+k] for i in range(len(text)-k+1)]\n",
    "    DeBruijnGraphOfKmers(patterns)"
   ]
  },
  {
   "cell_type": "code",
   "execution_count": 12,
   "metadata": {
    "collapsed": false
   },
   "outputs": [
    {
     "name": "stdout",
     "output_type": "stream",
     "text": [
      "AAG -> AGA\n",
      "AGA -> GAT\n",
      "ATT -> TTC\n",
      "CTA -> TAC\n",
      "CTC -> TCT\n",
      "GAT -> ATT\n",
      "TCT -> CTA,CTC\n",
      "TTC -> TCT\n"
     ]
    }
   ],
   "source": [
    "k = 4\n",
    "text = 'AAGATTCTCTAC'\n",
    "DeBruijnGraphOfString(text, k)"
   ]
  },
  {
   "cell_type": "markdown",
   "metadata": {
    "collapsed": true
   },
   "source": [
    "### BA3E | De Bruijn Graph from k-mers Problem"
   ]
  },
  {
   "cell_type": "code",
   "execution_count": 13,
   "metadata": {
    "collapsed": true
   },
   "outputs": [],
   "source": [
    "def DeBruijnGraphOfKmers(patterns):\n",
    "    k=len(patterns[0])\n",
    "    graph_dict = {}\n",
    "    for pattern in patterns:\n",
    "        if pattern[:k-1] not in graph_dict:\n",
    "            graph_dict[pattern[:k-1]] = [pattern[1:]]\n",
    "        else:\n",
    "            graph_dict[pattern[:k-1]].append(pattern[1:])\n",
    "\n",
    "    for node in sorted(graph_dict):\n",
    "        if len(graph_dict[node])>1:\n",
    "            print node + ' ->',\n",
    "            print ','.join([n for n in sorted(graph_dict[node])])\n",
    "        else:\n",
    "            print node + ' -> '+ graph_dict[node][0] \n",
    "    return graph_dict"
   ]
  },
  {
   "cell_type": "code",
   "execution_count": 14,
   "metadata": {
    "collapsed": true
   },
   "outputs": [],
   "source": [
    "with open('../data/rosalind_ba3e.txt', 'r') as f:\n",
    "    patterns = [p.strip() for p in f.readlines()]"
   ]
  },
  {
   "cell_type": "code",
   "execution_count": 15,
   "metadata": {
    "collapsed": false
   },
   "outputs": [
    {
     "name": "stdout",
     "output_type": "stream",
     "text": [
      "AGG -> GGG\n",
      "CAG -> AGG,AGG\n",
      "GAG -> AGG\n",
      "GGA -> GAG\n",
      "GGG -> GGA,GGG\n"
     ]
    },
    {
     "data": {
      "text/plain": [
       "{'AGG': ['GGG'],\n",
       " 'CAG': ['AGG', 'AGG'],\n",
       " 'GAG': ['AGG'],\n",
       " 'GGA': ['GAG'],\n",
       " 'GGG': ['GGG', 'GGA']}"
      ]
     },
     "execution_count": 15,
     "metadata": {},
     "output_type": "execute_result"
    }
   ],
   "source": [
    "DeBruijnGraphOfKmers(patterns)"
   ]
  },
  {
   "cell_type": "markdown",
   "metadata": {},
   "source": [
    "### BA3F | Find an Eulerian Cycle in a Graph"
   ]
  },
  {
   "cell_type": "code",
   "execution_count": 28,
   "metadata": {
    "collapsed": true
   },
   "outputs": [],
   "source": [
    "from random import choice"
   ]
  },
  {
   "cell_type": "code",
   "execution_count": 29,
   "metadata": {
    "collapsed": true
   },
   "outputs": [],
   "source": [
    "def EulerianCycle(graph):\n",
    "    path = []\n",
    "    start = choice(graph.keys())\n",
    "    path = WalkEulerian(graph,path, start)\n",
    "    #print '->'.join(path[::-1][1:])\n",
    "    return path[::-1][1:]\n",
    "    #return ''.join(path[::-1][1:])"
   ]
  },
  {
   "cell_type": "code",
   "execution_count": 30,
   "metadata": {
    "collapsed": true
   },
   "outputs": [],
   "source": [
    "def WalkEulerian(graph, path, node):\n",
    "    while len(graph[node]) > 0:\n",
    "        new_start = choice(graph[node])\n",
    "        graph[node].remove(new_start)\n",
    "        WalkEulerian(graph, path, new_start)\n",
    "    path.append(node)\n",
    "    return path"
   ]
  },
  {
   "cell_type": "code",
   "execution_count": 31,
   "metadata": {
    "collapsed": true
   },
   "outputs": [],
   "source": [
    "with open('../data/rosalind_ba3f.txt', 'r') as f:\n",
    "    lines = [line.strip().split(' -> ') for line in f.readlines()]\n",
    "    graph = {}\n",
    "    for line in lines:\n",
    "        graph[line[0]] = line[1].split(',')"
   ]
  },
  {
   "cell_type": "code",
   "execution_count": 32,
   "metadata": {
    "collapsed": false
   },
   "outputs": [
    {
     "data": {
      "text/plain": [
       "'5->4->2->1->0->3->2->6->8->7->9->6'"
      ]
     },
     "execution_count": 32,
     "metadata": {},
     "output_type": "execute_result"
    }
   ],
   "source": [
    "('->').join(EulerianCycle(graph))"
   ]
  },
  {
   "cell_type": "markdown",
   "metadata": {},
   "source": [
    "### BA3G | Find an Eulerian Path in a Graph"
   ]
  },
  {
   "cell_type": "code",
   "execution_count": 33,
   "metadata": {
    "collapsed": true
   },
   "outputs": [],
   "source": [
    "from random import choice\n",
    "import sys"
   ]
  },
  {
   "cell_type": "code",
   "execution_count": 34,
   "metadata": {
    "collapsed": false
   },
   "outputs": [],
   "source": [
    "def EulerianPath(graph):\n",
    "    # make a reverse graph\n",
    "    reverse_graph = {}\n",
    "    for node in graph:\n",
    "        for n in graph[node]:\n",
    "            if n in reverse_graph:\n",
    "                reverse_graph[n].append(node)\n",
    "            else:\n",
    "                reverse_graph[n] = [node]\n",
    "    \n",
    "    # parse add one edge to balance the graph \n",
    "    in_n_out = {}\n",
    "    for node in graph:\n",
    "        in_n_out[node] = [len(graph[node]), 0]\n",
    "    for node in reverse_graph:\n",
    "        if node in in_n_out:\n",
    "            in_n_out[node][1] = len(reverse_graph[node])\n",
    "        else:\n",
    "            in_n_out[node] = [0, len(reverse_graph[node])]\n",
    "\n",
    "    for node in in_n_out:\n",
    "        if node not in graph:\n",
    "            graph[node] = []\n",
    "        in_degree = in_n_out[node][0]\n",
    "        out_degree = in_n_out[node][1]\n",
    "        if in_degree - out_degree < 0:\n",
    "            node_from = node\n",
    "        if in_degree - out_degree > 0:\n",
    "            node_to = node\n",
    "\n",
    "    if node_from in graph:\n",
    "        graph[node_from].append(node_to)\n",
    "    else:\n",
    "        graph[node_from] = [node_to]    \n",
    "    \n",
    "    path = []\n",
    "    start = choice(graph.keys())\n",
    "    #path.append(WalkEulerian(graph,path, start))\n",
    "    path = WalkEulerian(graph,path, start)\n",
    "    idx = 0\n",
    "    for i in range(len(path[:-1])-1):\n",
    "        if path[i:i+2] == [node_to, node_from]:\n",
    "            idx = i\n",
    "            break\n",
    "    result = path[:idx+1][::-1] + path[idx+1:-1][::-1]\n",
    "    #print '->'.join(node for node in result)\n",
    "    return result"
   ]
  },
  {
   "cell_type": "code",
   "execution_count": 23,
   "metadata": {
    "collapsed": true
   },
   "outputs": [],
   "source": [
    "def WalkEulerian(graph, path, node):\n",
    "    if node in graph:\n",
    "        while len(graph[node]) > 0:\n",
    "            new_start = choice(graph[node])\n",
    "            graph[node].remove(new_start)\n",
    "            WalkEulerian(graph, path, new_start)\n",
    "        path.append(node)\n",
    "    return path"
   ]
  },
  {
   "cell_type": "code",
   "execution_count": 39,
   "metadata": {
    "collapsed": false
   },
   "outputs": [],
   "source": [
    "with open('../data/rosalind_ba3g.txt', 'r') as f:\n",
    "    lines = [l.strip().split(' -> ') for l in f.readlines()]\n",
    "    graph = {}\n",
    "    for line in lines:\n",
    "        line_list = line[1].split(',')\n",
    "        graph[line[0]] = line_list"
   ]
  },
  {
   "cell_type": "code",
   "execution_count": 40,
   "metadata": {
    "collapsed": false
   },
   "outputs": [],
   "source": [
    "path = EulerianPath(graph)"
   ]
  },
  {
   "cell_type": "code",
   "execution_count": 41,
   "metadata": {
    "collapsed": false
   },
   "outputs": [
    {
     "data": {
      "text/plain": [
       "'6->7->8->9->6->3->0->2->1->3->4'"
      ]
     },
     "execution_count": 41,
     "metadata": {},
     "output_type": "execute_result"
    }
   ],
   "source": [
    "('->').join(path)"
   ]
  },
  {
   "cell_type": "markdown",
   "metadata": {},
   "source": [
    "### BA3H | Reconstruct a String from its k-mer Composition"
   ]
  },
  {
   "cell_type": "code",
   "execution_count": 42,
   "metadata": {
    "collapsed": false
   },
   "outputs": [],
   "source": [
    "with open('../data/rosalind_ba3h.txt', 'r') as f:\n",
    "    k = int(f.readline().strip())\n",
    "    patterns = [line.strip() for line in f.readlines()]"
   ]
  },
  {
   "cell_type": "code",
   "execution_count": 43,
   "metadata": {
    "collapsed": false,
    "scrolled": false
   },
   "outputs": [
    {
     "name": "stdout",
     "output_type": "stream",
     "text": [
      "ACC -> CCA\n",
      "CTT -> TTA\n",
      "GCT -> CTT\n",
      "GGC -> GCT\n",
      "TAC -> ACC\n",
      "TTA -> TAC\n"
     ]
    }
   ],
   "source": [
    "G = DeBruijnGraphOfKmers(patterns)"
   ]
  },
  {
   "cell_type": "code",
   "execution_count": 44,
   "metadata": {
    "collapsed": false
   },
   "outputs": [],
   "source": [
    "res = EulerianPath(G)"
   ]
  },
  {
   "cell_type": "code",
   "execution_count": 45,
   "metadata": {
    "collapsed": false,
    "scrolled": true
   },
   "outputs": [
    {
     "data": {
      "text/plain": [
       "'GGCTTACCA'"
      ]
     },
     "execution_count": 45,
     "metadata": {},
     "output_type": "execute_result"
    }
   ],
   "source": [
    "StringFromGenomePath(res)"
   ]
  },
  {
   "cell_type": "markdown",
   "metadata": {},
   "source": [
    "### BA3I | Find a k-Universal Circular String"
   ]
  },
  {
   "cell_type": "code",
   "execution_count": 46,
   "metadata": {
    "collapsed": true
   },
   "outputs": [],
   "source": [
    "def KUniversalCircularString(k):\n",
    "    patterns = [(\"{0:0\"+repr(k)+\"b}\").format(i) for i in range(2**k)]\n",
    "    G = DeBruijnGraphOfKmers(patterns)\n",
    "    cycle = EulerianCycle(G)\n",
    "    result = StringFromGenomePath(cycle)\n",
    "    return result[:-(k-2)]"
   ]
  },
  {
   "cell_type": "code",
   "execution_count": 47,
   "metadata": {
    "collapsed": false
   },
   "outputs": [
    {
     "name": "stdout",
     "output_type": "stream",
     "text": [
      "00 -> 00,01\n",
      "01 -> 10,11\n",
      "10 -> 00,01\n",
      "11 -> 10,11\n"
     ]
    },
    {
     "data": {
      "text/plain": [
       "'11100010'"
      ]
     },
     "execution_count": 47,
     "metadata": {},
     "output_type": "execute_result"
    }
   ],
   "source": [
    "KUniversalCircularString(3)"
   ]
  },
  {
   "cell_type": "markdown",
   "metadata": {},
   "source": [
    "### BA3J | Reconstruct a String from its Paired Composition"
   ]
  },
  {
   "cell_type": "code",
   "execution_count": 59,
   "metadata": {
    "collapsed": true
   },
   "outputs": [],
   "source": [
    "import sys\n",
    "from random import choice\n",
    "sys.setrecursionlimit(10000)"
   ]
  },
  {
   "cell_type": "code",
   "execution_count": 60,
   "metadata": {
    "collapsed": true
   },
   "outputs": [],
   "source": [
    "with open('../data/rosalind_ba3j.txt','r') as f:\n",
    "    k,d = [int(num) for num in f.readline().strip().split()]\n",
    "    gapped_patterns = [line.strip() for line in f.readlines()]"
   ]
  },
  {
   "cell_type": "code",
   "execution_count": 61,
   "metadata": {
    "collapsed": true
   },
   "outputs": [],
   "source": [
    "def DeBruijnGraphOfGappedKmers(gapped_patterns):\n",
    "    graph_dict = {}\n",
    "    k = len(gapped_patterns[0].split('|')[0])\n",
    "    for pattern in gapped_patterns:\n",
    "        gapped_read = pattern.split('|')\n",
    "        node_a = (gapped_read[0][:k-1], gapped_read[1][:k-1])\n",
    "        node_b = (gapped_read[0][1:], gapped_read[1][1:])\n",
    "        if node_a not in graph_dict:\n",
    "            graph_dict[node_a] = [node_b]\n",
    "        else:\n",
    "            graph_dict[node_a].append(node_b)\n",
    "    return graph_dict"
   ]
  },
  {
   "cell_type": "code",
   "execution_count": 62,
   "metadata": {
    "collapsed": true
   },
   "outputs": [],
   "source": [
    "def StringSpelledByGappedPatterns(gapped_patterns, k, d):\n",
    "    first_patterns = [pattern.split('|')[0] for pattern in gapped_patterns]\n",
    "    second_patterns = [pattern.split('|')[1] for pattern in gapped_patterns]\n",
    "    prefix_str = StringFromGenomePath(first_patterns)\n",
    "    suffix_str = StringFromGenomePath(second_patterns)\n",
    "    for i in range(k+d, len(prefix_str)):\n",
    "        if prefix_str[i] != suffix_str[i-k-d]:\n",
    "            print 'There is no string spelled by the gapped pattern.'\n",
    "    return prefix_str+suffix_str[-(k+d):]"
   ]
  },
  {
   "cell_type": "code",
   "execution_count": 63,
   "metadata": {
    "collapsed": false
   },
   "outputs": [],
   "source": [
    "G = DeBruijnGraphOfGappedKmers(gapped_patterns)"
   ]
  },
  {
   "cell_type": "code",
   "execution_count": 64,
   "metadata": {
    "collapsed": false
   },
   "outputs": [],
   "source": [
    "gp = [edge[0]+'|'+edge[1] for edge in EulerianPath(G)]"
   ]
  },
  {
   "cell_type": "code",
   "execution_count": 65,
   "metadata": {
    "collapsed": false,
    "scrolled": true
   },
   "outputs": [
    {
     "data": {
      "text/plain": [
       "'GTGGTCGTGAGATGTTGA'"
      ]
     },
     "execution_count": 65,
     "metadata": {},
     "output_type": "execute_result"
    }
   ],
   "source": [
    "StringSpelledByGappedPatterns(gp, k, d)"
   ]
  },
  {
   "cell_type": "markdown",
   "metadata": {
    "collapsed": true
   },
   "source": [
    "### BA3K | Generate Contigs from a Collection of Reads"
   ]
  },
  {
   "cell_type": "code",
   "execution_count": 74,
   "metadata": {
    "collapsed": true
   },
   "outputs": [],
   "source": [
    "with open('../data/rosalind_ba3k.txt', 'r') as f:\n",
    "    patterns = [p.strip() for p in f.readlines()]"
   ]
  },
  {
   "cell_type": "code",
   "execution_count": 75,
   "metadata": {
    "collapsed": false,
    "scrolled": true
   },
   "outputs": [
    {
     "name": "stdout",
     "output_type": "stream",
     "text": [
      "AG -> GA\n",
      "AT -> TG,TG\n",
      "CA -> AT\n",
      "GA -> AT\n",
      "GG -> GA\n",
      "TG -> GG,GT\n"
     ]
    }
   ],
   "source": [
    "G = DeBruijnGraphOfKmers(patterns)"
   ]
  },
  {
   "cell_type": "code",
   "execution_count": 76,
   "metadata": {
    "collapsed": false
   },
   "outputs": [],
   "source": [
    "contigs = MaxNonBranchingPaths(G)"
   ]
  },
  {
   "cell_type": "code",
   "execution_count": 77,
   "metadata": {
    "collapsed": false
   },
   "outputs": [
    {
     "name": "stdout",
     "output_type": "stream",
     "text": [
      "AGA CAT ATG ATG GAT TGT TGGA\n"
     ]
    }
   ],
   "source": [
    "for contig in contigs:\n",
    "    print StringFromGenomePath(contig),"
   ]
  },
  {
   "cell_type": "markdown",
   "metadata": {},
   "source": [
    "### BA3L | Construct a String Spelled by a Gapped Genome Path"
   ]
  },
  {
   "cell_type": "code",
   "execution_count": 81,
   "metadata": {
    "collapsed": false
   },
   "outputs": [],
   "source": [
    "with open('../data/rosalind_ba3l.txt','r') as f:\n",
    "    k,d = [int(num) for num in f.readline().strip().split()]\n",
    "    gapped_patterns = [line.strip() for line in f.readlines()]"
   ]
  },
  {
   "cell_type": "code",
   "execution_count": 82,
   "metadata": {
    "collapsed": false
   },
   "outputs": [],
   "source": [
    "def StringSpelledByGappedPatterns(gapped_patterns, k, d):\n",
    "    first_patterns = [pattern.split('|')[0] for pattern in gapped_patterns]\n",
    "    second_patterns = [pattern.split('|')[1] for pattern in gapped_patterns]\n",
    "    prefix_str = StringFromGenomePath(first_patterns)\n",
    "    suffix_str = StringFromGenomePath(second_patterns)\n",
    "    for i in range(k+d, len(prefix_str)):\n",
    "        if prefix_str[i] != suffix_str[i-k-d]:\n",
    "            print 'There is no string spelled by the gapped pattern.'\n",
    "    return prefix_str+suffix_str[-(k+d):]"
   ]
  },
  {
   "cell_type": "code",
   "execution_count": 83,
   "metadata": {
    "collapsed": false
   },
   "outputs": [
    {
     "data": {
      "text/plain": [
       "'GACCGAGCGCCGGA'"
      ]
     },
     "execution_count": 83,
     "metadata": {},
     "output_type": "execute_result"
    }
   ],
   "source": [
    "StringSpelledByGappedPatterns(gapped_patterns, k, d)"
   ]
  },
  {
   "cell_type": "markdown",
   "metadata": {},
   "source": [
    "### BA3M | Generate All Maximal Non-Branching Paths in a Graph"
   ]
  },
  {
   "cell_type": "code",
   "execution_count": 84,
   "metadata": {
    "collapsed": true
   },
   "outputs": [],
   "source": [
    "from random import choice"
   ]
  },
  {
   "cell_type": "code",
   "execution_count": 85,
   "metadata": {
    "collapsed": false
   },
   "outputs": [],
   "source": [
    "with open('../data/rosalind_ba3m.txt', 'r') as f:\n",
    "    lines = [line.strip().split(' -> ') for line in f.readlines()]\n",
    "    graph = {}\n",
    "    for line in lines:\n",
    "        graph[line[0]] = line[1].split(',')"
   ]
  },
  {
   "cell_type": "code",
   "execution_count": 86,
   "metadata": {
    "collapsed": true
   },
   "outputs": [],
   "source": [
    "def MaxNonBranchingPaths(graph):\n",
    "    # make a reverse graph\n",
    "    reverse_graph = {}\n",
    "    for node in graph:\n",
    "        for n in graph[node]:\n",
    "            if n in reverse_graph:\n",
    "                reverse_graph[n].append(node)\n",
    "            else:\n",
    "                reverse_graph[n] = [node]\n",
    "\n",
    "    # parse add one edge to balance the graph \n",
    "    in_n_out = {}\n",
    "    for node in graph:\n",
    "        in_n_out[node] = [len(graph[node]), 0]\n",
    "    for node in reverse_graph:\n",
    "        if node in in_n_out:\n",
    "            in_n_out[node][1] = len(reverse_graph[node])\n",
    "        else:\n",
    "            in_n_out[node] = [0, len(reverse_graph[node])]\n",
    "\n",
    "    # add nodes that do not have outgoing edges to graph\n",
    "    for node in in_n_out:\n",
    "        if node not in graph:\n",
    "            graph[node] = []\n",
    "\n",
    "    # make a set of all one-in-one-out nodes\n",
    "    one_in_one_out = set()\n",
    "    for node in in_n_out:\n",
    "        if (in_n_out[node][0] == 1) and (in_n_out[node][1] == 1):\n",
    "            one_in_one_out.add(node)\n",
    "\n",
    "    paths = []\n",
    "    nodes_added = set()\n",
    "    for v in graph:\n",
    "        if v not in one_in_one_out:\n",
    "            if in_n_out[v][0]>0:\n",
    "                for w in graph[v]:\n",
    "                    non_branching_path = [v,w]\n",
    "                    nodes_added.add(v)\n",
    "                    nodes_added.add(w)\n",
    "                    while w in one_in_one_out:\n",
    "                        for u in graph[w]:\n",
    "                            non_branching_path.append(u)\n",
    "                            nodes_added.add(u)\n",
    "                        w = u\n",
    "                    paths.append(non_branching_path)\n",
    "\n",
    "    seperate_edges = {}\n",
    "    for node in one_in_one_out - nodes_added:\n",
    "        seperate_edges[node] = graph[node][0]\n",
    "    \n",
    "    if len(seperate_edges)>0:\n",
    "        node = choice(seperate_edges.keys())\n",
    "        path = []\n",
    "        while len(seperate_edges) > 0:\n",
    "            if node in seperate_edges:\n",
    "                to_node = seperate_edges[node]\n",
    "                path.append(to_node)\n",
    "                seperate_edges.pop(node, None)\n",
    "                node = to_node\n",
    "            else:\n",
    "                paths.append(path+[path[0]])\n",
    "                if len(seperate_edges)>0:\n",
    "                    path = []\n",
    "                    node = choice(seperate_edges.keys())\n",
    "                else:\n",
    "                    break\n",
    "        paths.append(path+[path[0]])\n",
    "    else:\n",
    "        return paths\n",
    "\n",
    "    return paths"
   ]
  },
  {
   "cell_type": "code",
   "execution_count": 87,
   "metadata": {
    "collapsed": false
   },
   "outputs": [],
   "source": [
    "path_list = MaxNonBranchingPaths(graph)"
   ]
  },
  {
   "cell_type": "code",
   "execution_count": 88,
   "metadata": {
    "collapsed": false
   },
   "outputs": [
    {
     "name": "stdout",
     "output_type": "stream",
     "text": [
      "1 -> 2 -> 3\n",
      "3 -> 4\n",
      "3 -> 5\n",
      "7 -> 6 -> 7\n"
     ]
    }
   ],
   "source": [
    "for path in path_list:\n",
    "    print ' -> '.join(path)"
   ]
  }
 ],
 "metadata": {
  "kernelspec": {
   "display_name": "Python 2",
   "language": "python",
   "name": "python2"
  },
  "language_info": {
   "codemirror_mode": {
    "name": "ipython",
    "version": 2
   },
   "file_extension": ".py",
   "mimetype": "text/x-python",
   "name": "python",
   "nbconvert_exporter": "python",
   "pygments_lexer": "ipython2",
   "version": "2.7.13"
  }
 },
 "nbformat": 4,
 "nbformat_minor": 2
}
