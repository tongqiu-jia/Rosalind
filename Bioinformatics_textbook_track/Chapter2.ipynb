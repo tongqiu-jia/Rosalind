{
 "cells": [
  {
   "cell_type": "markdown",
   "metadata": {},
   "source": [
    "## Chapter 2"
   ]
  },
  {
   "cell_type": "markdown",
   "metadata": {},
   "source": [
    "#### BA2A  | Implement MotifEnumeration"
   ]
  },
  {
   "cell_type": "code",
   "execution_count": 1,
   "metadata": {
    "collapsed": true
   },
   "outputs": [],
   "source": [
    "def HammingDist(string1, string2):\n",
    "    dist = 0\n",
    "    for i, nt in enumerate(string1):\n",
    "        if nt != string2[i]:\n",
    "            dist += 1\n",
    "    return dist"
   ]
  },
  {
   "cell_type": "code",
   "execution_count": 2,
   "metadata": {
    "collapsed": true
   },
   "outputs": [],
   "source": [
    "def Neighbors(pattern, d):\n",
    "    if d == 0:\n",
    "        return {pattern}\n",
    "    nucleotides = {'A','C','G','T'}\n",
    "    if len(pattern) == 1:\n",
    "        return nucleotides\n",
    "    neighborhood = set()\n",
    "    suffix_neighbors = Neighbors(pattern[1:],d)\n",
    "    for text in suffix_neighbors:\n",
    "        if HammingDist(pattern[1:],text) < d:\n",
    "            for base in nucleotides:\n",
    "                neighborhood.add(base+text)\n",
    "        else:\n",
    "            neighborhood.add(pattern[0]+text)\n",
    "\n",
    "    return neighborhood"
   ]
  },
  {
   "cell_type": "code",
   "execution_count": 3,
   "metadata": {
    "collapsed": true
   },
   "outputs": [],
   "source": [
    "# get Neighborhood for each dna, and intersect all neighborhoods\n",
    "def MotifEnumeration(k, d, dnas):\n",
    "    neighbor_list = []\n",
    "    for dna in dnas:\n",
    "        neighbor = set()\n",
    "        for i in range(len(dna)-k+1):\n",
    "            neighbor = neighbor.union(Neighbors(dna[i:i+k], d))\n",
    "        neighbor_list.append(neighbor)\n",
    "    motifs = set.intersection(*neighbor_list)\n",
    "    return motifs"
   ]
  },
  {
   "cell_type": "code",
   "execution_count": 4,
   "metadata": {
    "collapsed": false
   },
   "outputs": [
    {
     "name": "stdout",
     "output_type": "stream",
     "text": [
      "ATT TTT GTT ATA\n"
     ]
    }
   ],
   "source": [
    "with open(\"../data/rosalind_ba2a.txt\") as input_file:\n",
    "    k, d = map(int, input_file.readline().split())\n",
    "    dna_list = [line.strip() for line in input_file.readlines()]\n",
    "\n",
    "for motif in MotifEnumeration(k, d, dna_list):\n",
    "    print motif,"
   ]
  },
  {
   "cell_type": "markdown",
   "metadata": {},
   "source": [
    "### BA2B | Find a Median String"
   ]
  },
  {
   "cell_type": "code",
   "execution_count": 5,
   "metadata": {
    "collapsed": true
   },
   "outputs": [],
   "source": [
    "def HammingDist(string1, string2):\n",
    "    dist = 0\n",
    "    for i, nt in enumerate(string1):\n",
    "        if nt != string2[i]:\n",
    "            dist += 1\n",
    "    return dist"
   ]
  },
  {
   "cell_type": "code",
   "execution_count": 6,
   "metadata": {
    "collapsed": true
   },
   "outputs": [],
   "source": [
    "def NumToPattern(integer,k):\n",
    "    num_str = \"\"\n",
    "    for i in range(k):\n",
    "        remainder = (integer/(4**(k-i-1)))%4\n",
    "        if remainder == 0:\n",
    "            num_str += \"A\"\n",
    "        elif remainder == 1:\n",
    "            num_str += \"C\"\n",
    "        elif remainder == 2:\n",
    "            num_str += \"G\"\n",
    "        elif remainder == 3:\n",
    "            num_str += \"T\"\n",
    "    return num_str"
   ]
  },
  {
   "cell_type": "code",
   "execution_count": 7,
   "metadata": {
    "collapsed": true
   },
   "outputs": [],
   "source": [
    "def DistBtwPatternAndStrings(pattern, dnas):\n",
    "    k = len(pattern)\n",
    "    dist = 0\n",
    "    for dna in dnas:\n",
    "        hamming_dist = float('inf')\n",
    "        for i in range(len(dna)-k+1):\n",
    "            hd = HammingDist(pattern, dna[i:i+k])\n",
    "            if hamming_dist > hd:\n",
    "                hamming_dist = hd\n",
    "        dist += hamming_dist\n",
    "    return dist"
   ]
  },
  {
   "cell_type": "code",
   "execution_count": 10,
   "metadata": {
    "collapsed": true
   },
   "outputs": [],
   "source": [
    "def MedianString(k, dnas):\n",
    "    dist = float('inf')\n",
    "    median = ''\n",
    "    for i in range(4**k):\n",
    "        pattern = NumToPattern(i,k)\n",
    "        d = DistBtwPatternAndStrings(pattern, dnas)\n",
    "        if dist > d:\n",
    "            dist = d\n",
    "            median = pattern\n",
    "    return median"
   ]
  },
  {
   "cell_type": "code",
   "execution_count": 11,
   "metadata": {
    "collapsed": true
   },
   "outputs": [],
   "source": [
    "with open(\"../data/rosalind_ba2b.txt\") as input_file:\n",
    "    k_val = int(input_file.readline())\n",
    "    dna_list = [line.strip() for line in input_file.readlines()]"
   ]
  },
  {
   "cell_type": "code",
   "execution_count": 12,
   "metadata": {
    "collapsed": false
   },
   "outputs": [
    {
     "data": {
      "text/plain": [
       "'TCCGTA'"
      ]
     },
     "execution_count": 12,
     "metadata": {},
     "output_type": "execute_result"
    }
   ],
   "source": [
    "MedianString(k_val, dna_list)"
   ]
  },
  {
   "cell_type": "markdown",
   "metadata": {},
   "source": [
    "### BA2C | Find a Profile-most Probable k-mer in a String"
   ]
  },
  {
   "cell_type": "code",
   "execution_count": 13,
   "metadata": {
    "collapsed": true
   },
   "outputs": [],
   "source": [
    "def ProfileMostProbableKmer(dna, k, profile):\n",
    "    max_kmer_pair = [-1, None]\n",
    "    for i in range(len(dna)-k+1):\n",
    "        kmer = dna[i:i+k]\n",
    "        prob = 1\n",
    "        for j in range(len(kmer)):\n",
    "            if kmer[j] == \"A\":\n",
    "                prob *= float(profile[0][j])\n",
    "            elif kmer[j] == \"C\":\n",
    "                prob *= float(profile[1][j])\n",
    "            elif kmer[j] == \"G\":\n",
    "                prob *= float(profile[2][j])\n",
    "            elif kmer[j] == \"T\":\n",
    "                prob *= float(profile[3][j])\n",
    "        if prob > max_kmer_pair[0]:\n",
    "            max_kmer_pair = [prob, kmer]\n",
    "    return max_kmer_pair[1]"
   ]
  },
  {
   "cell_type": "code",
   "execution_count": 16,
   "metadata": {
    "collapsed": false
   },
   "outputs": [],
   "source": [
    "with open(\"../data/rosalind_ba2c.txt\") as input_file:\n",
    "    dna = input_file.readline().rstrip('\\n')\n",
    "    k = int(input_file.readline())\n",
    "    profile = [row.strip().split(' ') for row in input_file]"
   ]
  },
  {
   "cell_type": "code",
   "execution_count": 17,
   "metadata": {
    "collapsed": false
   },
   "outputs": [
    {
     "data": {
      "text/plain": [
       "'GACGCGC'"
      ]
     },
     "execution_count": 17,
     "metadata": {},
     "output_type": "execute_result"
    }
   ],
   "source": [
    "ProfileMostProbableKmer(dna, k, profile)"
   ]
  },
  {
   "cell_type": "markdown",
   "metadata": {},
   "source": [
    "### BA2D | Implement GreedyMotifSearch"
   ]
  },
  {
   "cell_type": "code",
   "execution_count": 18,
   "metadata": {
    "collapsed": true
   },
   "outputs": [],
   "source": [
    "def HammingDist(string1, string2):\n",
    "    dist = 0\n",
    "    for i, nt in enumerate(string1):\n",
    "        if nt != string2[i]:\n",
    "            dist += 1\n",
    "    return dist"
   ]
  },
  {
   "cell_type": "code",
   "execution_count": 19,
   "metadata": {
    "collapsed": true
   },
   "outputs": [],
   "source": [
    "def BuildProfile(motifs):\n",
    "    profile  = []\n",
    "    for i in range(len(motifs[0])):\n",
    "        col = ''.join([row[i] for row in motifs])\n",
    "        profile.append([float(col.count(nt))/float(len(motifs)) for nt in 'ACGT'])\n",
    "    return [list(i) for i in zip(*profile)]"
   ]
  },
  {
   "cell_type": "code",
   "execution_count": 20,
   "metadata": {
    "collapsed": true
   },
   "outputs": [],
   "source": [
    "def Score(motifs):\n",
    "    score = 0\n",
    "    for i in range(len(motifs[0])):\n",
    "        col = ''.join([row[i] for row in motifs]) \n",
    "        score += min([HammingDist(col, uni_col*len(motifs)) for uni_col in 'ACGT'])\n",
    "    return score"
   ]
  },
  {
   "cell_type": "code",
   "execution_count": 21,
   "metadata": {
    "collapsed": true
   },
   "outputs": [],
   "source": [
    "def GreedyMotifSearch(dnas, k, t):\n",
    "    best_motifs = [dna[0:k] for dna in dnas]\n",
    "    for i in range(len(dna[0])-k+1):\n",
    "        motifs = [dna[0][i:i+k]]\n",
    "        profile = BuildProfile(motifs)\n",
    "        for j in range(1,t):\n",
    "            motifs.append(ProfileMostProbableKmer(dna[j], k, profile))\n",
    "            profile = BuildProfile(motifs)\n",
    "            \n",
    "        if Score(motifs) < Score(best_motifs):\n",
    "            best_motifs = motifs\n",
    "    return best_motifs"
   ]
  },
  {
   "cell_type": "code",
   "execution_count": 22,
   "metadata": {
    "collapsed": true
   },
   "outputs": [],
   "source": [
    "with open('../data/rosalind_ba2d.txt') as input_file:\n",
    "    k,t = map(int, input_file.readline().split())\n",
    "    dnas = [line.strip() for line in input_file.readlines()]"
   ]
  },
  {
   "cell_type": "code",
   "execution_count": 23,
   "metadata": {
    "collapsed": false
   },
   "outputs": [
    {
     "name": "stdout",
     "output_type": "stream",
     "text": [
      "GGC\n",
      "AAG\n",
      "CAA\n",
      "CAC\n",
      "CAA\n"
     ]
    }
   ],
   "source": [
    "for dx in GreedyMotifSearch(dnas, k, t):\n",
    "    print dx"
   ]
  },
  {
   "cell_type": "markdown",
   "metadata": {},
   "source": [
    "### BA2E | Implement GreedyMotifSearch with Pseudocounts"
   ]
  },
  {
   "cell_type": "code",
   "execution_count": 24,
   "metadata": {
    "collapsed": true
   },
   "outputs": [],
   "source": [
    "def BuildProfilePseudocounts(motifs):\n",
    "    profile  = []\n",
    "    for i in range(len(motifs[0])):\n",
    "        col = ''.join([row[i] for row in motifs])\n",
    "        profile.append([(float(col.count(nt))+1)/float(len(motifs)) for nt in 'ACGT'])\n",
    "    return [list(i) for i in zip(*profile)]"
   ]
  },
  {
   "cell_type": "code",
   "execution_count": 25,
   "metadata": {
    "collapsed": true
   },
   "outputs": [],
   "source": [
    "def Score(motifs):\n",
    "    score = 0\n",
    "    for i in range(len(motifs[0])):\n",
    "        col = ''.join([row[i] for row in motifs]) \n",
    "        score += min([hamming_dist(col, uni_col*len(motifs)) for uni_col in 'ACGT'])\n",
    "    return score"
   ]
  },
  {
   "cell_type": "code",
   "execution_count": 26,
   "metadata": {
    "collapsed": true
   },
   "outputs": [],
   "source": [
    "def GreedyMotifSearchPseudoCounts(dnas, k, t):\n",
    "    best_motifs = [dna[0:k] for dna in dnas]\n",
    "    for i in range(len(dna[0])-k+1):\n",
    "        motifs = [dna[0][i:i+k]]\n",
    "        profile = BuildProfilePseudocounts(motifs)\n",
    "        for j in range(1,t):\n",
    "            motifs.append(ProfileMostProbableKmer(dna[j], k, profile))\n",
    "            profile = BuildProfilePseudocounts(motifs)\n",
    "            \n",
    "        if Score(motifs) < Score(best_motifs):\n",
    "            best_motifs = motifs\n",
    "    return best_motifs"
   ]
  },
  {
   "cell_type": "code",
   "execution_count": 28,
   "metadata": {
    "collapsed": false
   },
   "outputs": [],
   "source": [
    "with open('../data/rosalind_ba2e.txt') as input_file:\n",
    "    k,t = map(int, input_file.readline().split())\n",
    "    dnas = [line.strip() for line in input_file.readlines()]"
   ]
  },
  {
   "cell_type": "code",
   "execution_count": 29,
   "metadata": {
    "collapsed": false
   },
   "outputs": [
    {
     "data": {
      "text/plain": [
       "['GGC', 'AAG', 'CAA', 'CAC', 'CAA']"
      ]
     },
     "execution_count": 29,
     "metadata": {},
     "output_type": "execute_result"
    }
   ],
   "source": [
    "GreedyMotifSearchPseudoCounts(dnas, k, t)"
   ]
  },
  {
   "cell_type": "markdown",
   "metadata": {},
   "source": [
    "### BA2F | Implement RandomizedMotifSearch"
   ]
  },
  {
   "cell_type": "code",
   "execution_count": 30,
   "metadata": {
    "collapsed": true
   },
   "outputs": [],
   "source": [
    "def HammingDist(string1, string2):\n",
    "    dist = 0\n",
    "    for i, nt in enumerate(string1):\n",
    "        if nt != string2[i]:\n",
    "            dist += 1\n",
    "    return dist"
   ]
  },
  {
   "cell_type": "code",
   "execution_count": 31,
   "metadata": {
    "collapsed": true
   },
   "outputs": [],
   "source": [
    "def BuildProfilePseudocounts(motifs):\n",
    "    profile  = []\n",
    "    for i in range(len(motifs[0])):\n",
    "        col = ''.join([row[i] for row in motifs])\n",
    "        profile.append([(float(col.count(nt))+1)/float(len(motifs)) for nt in 'ACGT'])\n",
    "    return [list(i) for i in zip(*profile)]"
   ]
  },
  {
   "cell_type": "code",
   "execution_count": 32,
   "metadata": {
    "collapsed": true
   },
   "outputs": [],
   "source": [
    "def Score(motifs):\n",
    "    score = 0\n",
    "    for i in range(len(motifs[0])):\n",
    "        col = ''.join([row[i] for row in motifs]) \n",
    "        score += min([HammingDist(col, uni_col*len(motifs)) for uni_col in 'ACGT'])\n",
    "    return score"
   ]
  },
  {
   "cell_type": "code",
   "execution_count": 33,
   "metadata": {
    "collapsed": true
   },
   "outputs": [],
   "source": [
    "def MotifsGivenProfile(profile, dnas, k):\n",
    "    motifs =[]\n",
    "    for dna in dnas:\n",
    "        motifs.append(ProfileMostProbableKmer(dna,k,profile))\n",
    "    return motifs    "
   ]
  },
  {
   "cell_type": "code",
   "execution_count": 34,
   "metadata": {
    "collapsed": true
   },
   "outputs": [],
   "source": [
    "def ProfileMostProbableKmer(dna, k, profile):\n",
    "    max_kmer_pair = [-1, None]\n",
    "    for i in range(len(dna)-k+1):\n",
    "        kmer = dna[i:i+k]\n",
    "        prob = 1\n",
    "        for j in range(len(kmer)):\n",
    "            if kmer[j] == \"A\":\n",
    "                prob *= float(profile[0][j])\n",
    "            elif kmer[j] == \"C\":\n",
    "                prob *= float(profile[1][j])\n",
    "            elif kmer[j] == \"G\":\n",
    "                prob *= float(profile[2][j])\n",
    "            elif kmer[j] == \"T\":\n",
    "                prob *= float(profile[3][j])\n",
    "        if prob > max_kmer_pair[0]:\n",
    "            max_kmer_pair = [prob, kmer]\n",
    "    return max_kmer_pair[1]"
   ]
  },
  {
   "cell_type": "code",
   "execution_count": 35,
   "metadata": {
    "collapsed": true
   },
   "outputs": [],
   "source": [
    "from random import randint\n",
    "def RandMotifSearch(dnas, k, t):\n",
    "    # Generalize random motifs\n",
    "    rand_motifs = []\n",
    "    for dna in dnas:\n",
    "        rand_int = randint(0,len(dna)-k)\n",
    "        rand_motifs.append(dna[rand_int:rand_int+k])\n",
    "    best_motifs = rand_motifs\n",
    "    while True:\n",
    "        profile = BuildProfilePseudocounts(best_motifs)\n",
    "        motifs = MotifsGivenProfile(profile,dnas,k)\n",
    "\n",
    "        if Score(motifs) < Score(best_motifs):\n",
    "            best_motifs = motifs\n",
    "        else:\n",
    "            return best_motifs        "
   ]
  },
  {
   "cell_type": "code",
   "execution_count": 36,
   "metadata": {
    "collapsed": true
   },
   "outputs": [],
   "source": [
    "def RepeatRandMotifSearch(dnas,k,t):\n",
    "    best_score = float('inf')\n",
    "    best_motifs =[]\n",
    "    i = 0\n",
    "    while i <1000 :\n",
    "        motifs = RandMotifSearch(dnas,k,t)\n",
    "\n",
    "        if Score(motifs) < best_score:\n",
    "            best_score = Score(motifs)\n",
    "            best_motifs = motifs\n",
    "        else:\n",
    "            i+= 1\n",
    "    return best_motifs        "
   ]
  },
  {
   "cell_type": "code",
   "execution_count": 37,
   "metadata": {
    "collapsed": true
   },
   "outputs": [],
   "source": [
    "with open('../data/rosalind_ba2f.txt') as input_file:\n",
    "    k,t = map(int, input_file.readline().split())\n",
    "    dnas = [line.strip() for line in input_file.readlines()]"
   ]
  },
  {
   "cell_type": "code",
   "execution_count": 38,
   "metadata": {
    "collapsed": false
   },
   "outputs": [],
   "source": [
    "res = RepeatRandMotifSearch(dnas, k, t)"
   ]
  },
  {
   "cell_type": "code",
   "execution_count": 39,
   "metadata": {
    "collapsed": false
   },
   "outputs": [
    {
     "name": "stdout",
     "output_type": "stream",
     "text": [
      "TCTCGGGG\n",
      "CCAAGGTG\n",
      "TACAGGCG\n",
      "TTCAGGTG\n",
      "TCCACGTG\n"
     ]
    }
   ],
   "source": [
    "for t in res:\n",
    "    print t"
   ]
  },
  {
   "cell_type": "markdown",
   "metadata": {},
   "source": [
    "### BA2H | Implement DistanceBetweenPatternAndStrings"
   ]
  },
  {
   "cell_type": "code",
   "execution_count": 40,
   "metadata": {
    "collapsed": true
   },
   "outputs": [],
   "source": [
    "def HammingDist(string1, string2):\n",
    "    dist = 0\n",
    "    for i, nt in enumerate(string1):\n",
    "        if nt != string2[i]:\n",
    "            dist += 1\n",
    "    return dist"
   ]
  },
  {
   "cell_type": "code",
   "execution_count": 41,
   "metadata": {
    "collapsed": true
   },
   "outputs": [],
   "source": [
    "def DistBtwPatternAndStrings(pattern, dnas):\n",
    "    k = len(pattern)\n",
    "    dist = 0\n",
    "    for dna in dnas:\n",
    "        hamming_dist = float('inf')\n",
    "        for i in range(len(dna)-k+1):\n",
    "            hd = HammingDist(pattern, dna[i:i+k])\n",
    "            if hamming_dist > hd:\n",
    "                hamming_dist = hd\n",
    "        dist += hamming_dist\n",
    "    return dist"
   ]
  },
  {
   "cell_type": "code",
   "execution_count": 42,
   "metadata": {
    "collapsed": true
   },
   "outputs": [],
   "source": [
    "with open(\"../data/rosalind_ba2h.txt\") as input_file:\n",
    "    pattern = input_file.readline().strip()\n",
    "    dna_list = input_file.readline().strip().split(' ')"
   ]
  },
  {
   "cell_type": "code",
   "execution_count": 43,
   "metadata": {
    "collapsed": false
   },
   "outputs": [
    {
     "data": {
      "text/plain": [
       "5"
      ]
     },
     "execution_count": 43,
     "metadata": {},
     "output_type": "execute_result"
    }
   ],
   "source": [
    "DistBtwPatternAndStrings(pattern, dna_list)"
   ]
  }
 ],
 "metadata": {
  "kernelspec": {
   "display_name": "Python 2",
   "language": "python",
   "name": "python2"
  },
  "language_info": {
   "codemirror_mode": {
    "name": "ipython",
    "version": 2
   },
   "file_extension": ".py",
   "mimetype": "text/x-python",
   "name": "python",
   "nbconvert_exporter": "python",
   "pygments_lexer": "ipython2",
   "version": "2.7.13"
  }
 },
 "nbformat": 4,
 "nbformat_minor": 2
}
