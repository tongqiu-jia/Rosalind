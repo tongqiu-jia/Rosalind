{
 "cells": [
  {
   "cell_type": "markdown",
   "metadata": {},
   "source": [
    "### BA6A | Implement GreedySorting"
   ]
  },
  {
   "cell_type": "code",
   "execution_count": 1,
   "metadata": {
    "collapsed": true
   },
   "outputs": [],
   "source": [
    "with open('../data/rosalind_ba6a.txt') as f:\n",
    "    line = f.readline().lstrip('(').rstrip(')').split()\n",
    "    P = [int(num) for num in line]"
   ]
  },
  {
   "cell_type": "code",
   "execution_count": 2,
   "metadata": {
    "collapsed": true
   },
   "outputs": [],
   "source": [
    "def GreedySorting(P):\n",
    "    for i in range(len(P)):\n",
    "        if P[i] != i+1:\n",
    "            idx_flip = [abs(x) for x in P].index(i+1)\n",
    "            P = P[:i]+[-1*int(x) for x in P[i:idx_flip+1][::-1]]+P[idx_flip+1:]\n",
    "            print '('+' '.join([\"%+d\" %(x) for x in P]) + ')'\n",
    "            if P[i] == (-1)*(i+1):\n",
    "                P[i] = abs(P[i])\n",
    "                print '('+' '.join([\"%+d\" %(x) for x in P]) + ')'"
   ]
  },
  {
   "cell_type": "code",
   "execution_count": 3,
   "metadata": {
    "collapsed": false
   },
   "outputs": [
    {
     "name": "stdout",
     "output_type": "stream",
     "text": [
      "(-1 -4 +3 +5 -2)\n",
      "(+1 -4 +3 +5 -2)\n",
      "(+1 +2 -5 -3 +4)\n",
      "(+1 +2 +3 +5 +4)\n",
      "(+1 +2 +3 -4 -5)\n",
      "(+1 +2 +3 +4 -5)\n",
      "(+1 +2 +3 +4 +5)\n"
     ]
    }
   ],
   "source": [
    "GreedySorting(P)"
   ]
  },
  {
   "cell_type": "markdown",
   "metadata": {},
   "source": [
    "### BA6B | Number of Breakpoints Problem"
   ]
  },
  {
   "cell_type": "code",
   "execution_count": 4,
   "metadata": {
    "collapsed": true
   },
   "outputs": [],
   "source": [
    "with open('../data/rosalind_ba6b.txt') as f:\n",
    "    line = f.readline().strip().lstrip('(').rstrip(')').split()\n",
    "    P = [0]+[int(x) for x in line]+[len(line)+1]"
   ]
  },
  {
   "cell_type": "code",
   "execution_count": 5,
   "metadata": {
    "collapsed": true
   },
   "outputs": [],
   "source": [
    "def NumBreakPoints(P):\n",
    "    num_bp = 0\n",
    "    for i in range(1, len(P)-1):\n",
    "        if P[i] != P[i-1]+1:\n",
    "            num_bp += 1\n",
    "    return num_bp"
   ]
  },
  {
   "cell_type": "code",
   "execution_count": 6,
   "metadata": {
    "collapsed": false
   },
   "outputs": [
    {
     "data": {
      "text/plain": [
       "8"
      ]
     },
     "execution_count": 6,
     "metadata": {},
     "output_type": "execute_result"
    }
   ],
   "source": [
    "NumBreakPoints(P)"
   ]
  },
  {
   "cell_type": "markdown",
   "metadata": {},
   "source": [
    "### BA6C | 2-Break Distance Problem"
   ]
  },
  {
   "cell_type": "code",
   "execution_count": 27,
   "metadata": {
    "collapsed": false
   },
   "outputs": [],
   "source": [
    "with open('../data/rosalind_ba6c.txt') as f:\n",
    "    line = [x.split() for x in f.readline().strip().lstrip('(').rstrip(')').split(')(')]\n",
    "    P = [[int(x) for x in num] for num in line]\n",
    "    line = [x.split() for x in f.readline().strip().lstrip('(').rstrip(')').split(')(')]\n",
    "    Q = [[int(x) for x in num] for num in line]"
   ]
  },
  {
   "cell_type": "code",
   "execution_count": 28,
   "metadata": {
    "collapsed": true
   },
   "outputs": [],
   "source": [
    "def ColoredEdges(P):\n",
    "    edges = set()\n",
    "    for Chr in P:\n",
    "        nodes = ChromosomeToCycle(Chr)\n",
    "        nodes = nodes + [nodes[0]]\n",
    "        for i in range(len(Chr)):\n",
    "            edges.add((nodes[2*i+1], nodes[2*i+2]))\n",
    "    return edges"
   ]
  },
  {
   "cell_type": "code",
   "execution_count": 29,
   "metadata": {
    "collapsed": true
   },
   "outputs": [],
   "source": [
    "def ChromosomeToCycle(Chr):\n",
    "    nodes = [None]*len(Chr)*2\n",
    "    for j in range(len(Chr)):\n",
    "        i = Chr[j]\n",
    "        if i > 0:\n",
    "            nodes[2*j] = 2*i -1\n",
    "            nodes[2*j+1] = 2*i\n",
    "        else:\n",
    "            nodes[2*j] = -2*i\n",
    "            nodes[2*j+1] = -2*i -1\n",
    "    #print '('+' '.join([repr(node) for node in nodes]) + ')'\n",
    "    return nodes"
   ]
  },
  {
   "cell_type": "code",
   "execution_count": 30,
   "metadata": {
    "collapsed": false
   },
   "outputs": [],
   "source": [
    "def TwoBreakDist(P, Q):\n",
    "    #number of blocks\n",
    "    num_blocks = 0\n",
    "    for Chr in P:\n",
    "        num_blocks += len(Chr)\n",
    "    #print num_blocks\n",
    "    U = ColoredEdges(P).union(ColoredEdges(Q))\n",
    "    undirct = set()\n",
    "    for e in U:\n",
    "        undirct.add((e[1], e[0]))\n",
    "    U = U.union(undirct)\n",
    "    #print len(FindAllCycles(U))\n",
    "    return num_blocks-len(FindAllCycles(U))"
   ]
  },
  {
   "cell_type": "code",
   "execution_count": 31,
   "metadata": {
    "collapsed": true
   },
   "outputs": [],
   "source": [
    "import networkx as nx\n",
    "def FindAllCycles(new_edges):\n",
    "    G = nx.DiGraph(list(new_edges))\n",
    "    cycles = list(nx.simple_cycles(G))\n",
    "    real_cycles = []\n",
    "    for c in cycles:\n",
    "        if len(c) >2:\n",
    "            real_cycles.append(c)\n",
    "    return real_cycles"
   ]
  },
  {
   "cell_type": "code",
   "execution_count": 32,
   "metadata": {
    "collapsed": false
   },
   "outputs": [
    {
     "data": {
      "text/plain": [
       "2"
      ]
     },
     "execution_count": 32,
     "metadata": {},
     "output_type": "execute_result"
    }
   ],
   "source": [
    "TwoBreakDist(P, Q)"
   ]
  },
  {
   "cell_type": "markdown",
   "metadata": {},
   "source": [
    "### BA6E | Shared k-mers Problem"
   ]
  },
  {
   "cell_type": "code",
   "execution_count": 37,
   "metadata": {
    "collapsed": true
   },
   "outputs": [],
   "source": [
    "def ReverseComplement(dna):\n",
    "    comp = ''\n",
    "    for nt in dna:\n",
    "        if nt == 'A':\n",
    "            comp += 'T'\n",
    "        elif nt == 'T':\n",
    "            comp += 'A'\n",
    "        elif nt == 'G':\n",
    "            comp += 'C'\n",
    "        elif nt == 'C':\n",
    "            comp += 'G'\n",
    "    return comp[::-1]"
   ]
  },
  {
   "cell_type": "code",
   "execution_count": 38,
   "metadata": {
    "collapsed": false
   },
   "outputs": [],
   "source": [
    "def SharedKmer(k, str1, str2):\n",
    "    kmer_collection = {}\n",
    "    for i in range(len(str1)-k+1):\n",
    "        if not str1[i:i+k] in kmer_collection:\n",
    "            kmer_collection[str1[i:i+k]] = [i]\n",
    "            kmer_collection[ReverseComplement(str1[i:i+k])] = [i]\n",
    "        else:\n",
    "            kmer_collection[str1[i:i+k]].append(i)\n",
    "            kmer_collection[ReverseComplement(str1[i:i+k])].append(i)\n",
    "            \n",
    "\n",
    "    idx_pairs = []\n",
    "    for i in range(len(str2)-k+1):\n",
    "        if str2[i:i+k] in kmer_collection:\n",
    "            for x in kmer_collection[str2[i:i+k]]:\n",
    "                print (x, i)\n",
    "    #return idx_pairs"
   ]
  },
  {
   "cell_type": "code",
   "execution_count": 41,
   "metadata": {
    "collapsed": true
   },
   "outputs": [],
   "source": [
    "with open('../data/rosalind_ba6e.txt') as f:\n",
    "    k = int(f.readline().strip())\n",
    "    str1 = f.readline().strip()\n",
    "    str2 = f.readline().strip()"
   ]
  },
  {
   "cell_type": "code",
   "execution_count": 42,
   "metadata": {
    "collapsed": false
   },
   "outputs": [
    {
     "name": "stdout",
     "output_type": "stream",
     "text": [
      "(0, 0)\n",
      "(4, 2)\n",
      "(0, 4)\n",
      "(6, 6)\n"
     ]
    }
   ],
   "source": [
    "SharedKmer(k, str1, str2)"
   ]
  },
  {
   "cell_type": "code",
   "execution_count": 257,
   "metadata": {
    "collapsed": true
   },
   "outputs": [],
   "source": [
    "#not really useful\n",
    "def FindBlackEdges(colored_edges):\n",
    "    black_edges = []\n",
    "    for cedge in colored_edges:\n",
    "        if cedge[0] % 2 == 0:\n",
    "            black_edges.append((cedge[0]-1, cedge[0]))\n",
    "        elif cedge[0] %2 == 1:\n",
    "            black_edges.append((cedge[0]+1, cedge[0]))\n",
    "    return black_edges"
   ]
  },
  {
   "cell_type": "markdown",
   "metadata": {},
   "source": [
    "### BA6F | Chromosome To Cycle Problem"
   ]
  },
  {
   "cell_type": "code",
   "execution_count": 43,
   "metadata": {
    "collapsed": true
   },
   "outputs": [],
   "source": [
    "with open('../data/rosalind_ba6f.txt') as f:\n",
    "    line = f.readline().strip().lstrip('(').rstrip(')').split()\n",
    "    Chr = [int(num) for num in line]"
   ]
  },
  {
   "cell_type": "code",
   "execution_count": 44,
   "metadata": {
    "collapsed": false
   },
   "outputs": [],
   "source": [
    "def ChromosomeToCycle(Chr):\n",
    "    nodes = [None]*len(Chr)*2\n",
    "    for j in range(len(Chr)):\n",
    "        i = Chr[j]\n",
    "        if i > 0:\n",
    "            nodes[2*j] = 2*i -1\n",
    "            nodes[2*j+1] = 2*i\n",
    "        else:\n",
    "            nodes[2*j] = -2*i\n",
    "            nodes[2*j+1] = -2*i -1\n",
    "    #print '('+' '.join([repr(node) for node in nodes]) + ')'\n",
    "    return nodes"
   ]
  },
  {
   "cell_type": "code",
   "execution_count": 45,
   "metadata": {
    "collapsed": false
   },
   "outputs": [
    {
     "data": {
      "text/plain": [
       "[1, 2, 4, 3, 6, 5, 7, 8]"
      ]
     },
     "execution_count": 45,
     "metadata": {},
     "output_type": "execute_result"
    }
   ],
   "source": [
    "ChromosomeToCycle(Chr)"
   ]
  },
  {
   "cell_type": "markdown",
   "metadata": {},
   "source": [
    "### BA6G | Cycle To Chromosome Problem"
   ]
  },
  {
   "cell_type": "code",
   "execution_count": 46,
   "metadata": {
    "collapsed": false
   },
   "outputs": [],
   "source": [
    "with open('../data/rosalind_ba6g.txt') as f:\n",
    "    line = f.readline().strip().lstrip('(').rstrip(')').split()\n",
    "    nodes = [int(num) for num in line]  "
   ]
  },
  {
   "cell_type": "code",
   "execution_count": 47,
   "metadata": {
    "collapsed": false
   },
   "outputs": [
    {
     "data": {
      "text/plain": [
       "[1, 2, 4, 3, 6, 5, 7, 8]"
      ]
     },
     "execution_count": 47,
     "metadata": {},
     "output_type": "execute_result"
    }
   ],
   "source": [
    "nodes"
   ]
  },
  {
   "cell_type": "code",
   "execution_count": 48,
   "metadata": {
    "collapsed": false
   },
   "outputs": [],
   "source": [
    "def CycleToChromosome(nodes):\n",
    "    Chr = [None]*(len(nodes)/2)\n",
    "    for i in range(len(Chr)):\n",
    "        if nodes[2*i] < nodes[2*i+1]:\n",
    "            Chr[i] = nodes[2*i+1]/2\n",
    "        else:\n",
    "            Chr[i] = -1*nodes[2*i]/2\n",
    "    #print '('+' '.join([\"%+d\" %(x) for x in Chr]) + ')'\n",
    "    return Chr"
   ]
  },
  {
   "cell_type": "code",
   "execution_count": 49,
   "metadata": {
    "collapsed": false
   },
   "outputs": [
    {
     "data": {
      "text/plain": [
       "[1, -2, -3, 4]"
      ]
     },
     "execution_count": 49,
     "metadata": {},
     "output_type": "execute_result"
    }
   ],
   "source": [
    "CycleToChromosome(nodes)"
   ]
  },
  {
   "cell_type": "markdown",
   "metadata": {
    "collapsed": true
   },
   "source": [
    "### BA6H | Colored Edges Problem"
   ]
  },
  {
   "cell_type": "code",
   "execution_count": 50,
   "metadata": {
    "collapsed": false
   },
   "outputs": [],
   "source": [
    "with open('../data/rosalind_ba6h.txt') as f:\n",
    "    line = f.readline().strip().lstrip('(').rstrip(')').split(')(')\n",
    "    P = [[int(num) for num in Chr.split()] for Chr in line]"
   ]
  },
  {
   "cell_type": "code",
   "execution_count": 51,
   "metadata": {
    "collapsed": false
   },
   "outputs": [],
   "source": [
    "def ColoredEdges(P):\n",
    "    edges = set()\n",
    "    for Chr in P:\n",
    "        nodes = ChromosomeToCycle(Chr)\n",
    "        nodes = nodes + [nodes[0]]\n",
    "        for i in range(len(Chr)):\n",
    "            edges.add((nodes[2*i+1], nodes[2*i+2]))\n",
    "    return edges"
   ]
  },
  {
   "cell_type": "code",
   "execution_count": 52,
   "metadata": {
    "collapsed": false
   },
   "outputs": [
    {
     "data": {
      "text/plain": [
       "{(2, 4), (3, 6), (5, 1), (8, 9), (10, 12), (11, 7)}"
      ]
     },
     "execution_count": 52,
     "metadata": {},
     "output_type": "execute_result"
    }
   ],
   "source": [
    "ColoredEdges(P)"
   ]
  },
  {
   "cell_type": "markdown",
   "metadata": {},
   "source": [
    "### BA6I | Graph To Genome Problem"
   ]
  },
  {
   "cell_type": "code",
   "execution_count": 53,
   "metadata": {
    "collapsed": false
   },
   "outputs": [],
   "source": [
    "with open('../data/rosalind_ba6i.txt') as f:\n",
    "    frm, to = [],[]\n",
    "    line = f.readline().strip().split(',')\n",
    "    for node in line:\n",
    "        if '(' in node:\n",
    "            frm.append(int(node.lstrip(' (')))\n",
    "        elif ')' in node:\n",
    "            to.append(int(node.rstrip(')')))\n",
    "    edges = zip(frm,to)"
   ]
  },
  {
   "cell_type": "code",
   "execution_count": 55,
   "metadata": {
    "collapsed": false
   },
   "outputs": [],
   "source": [
    "def GraphToGenome(edges):\n",
    "    edges = edges + [edges[0]]\n",
    "    P = []\n",
    "    cycles = []\n",
    "    nodes = [edges[0]]\n",
    "    for i in range(1, len(edges)):\n",
    "        if abs(edges[i][0]-edges[i-1][1]) <= 1:\n",
    "            nodes.append(edges[i])\n",
    "        else:\n",
    "            cycles.append(nodes)\n",
    "            nodes = [edges[i]]\n",
    "    for cycle in cycles:\n",
    "        nodes = [x for t in cycle for x in t]\n",
    "        nodes = [nodes[-1]] + nodes\n",
    "        Chr = CycleToChromosome(nodes)\n",
    "        print '('+' '.join([\"%+d\" %(x) for x in Chr]) + ')',\n",
    "        P.append(Chr)\n",
    "    #return P"
   ]
  },
  {
   "cell_type": "code",
   "execution_count": 56,
   "metadata": {
    "collapsed": false
   },
   "outputs": [
    {
     "name": "stdout",
     "output_type": "stream",
     "text": [
      "(+1 -2 -3) (-4 +5 -6)\n"
     ]
    }
   ],
   "source": [
    "GraphToGenome(edges)"
   ]
  },
  {
   "cell_type": "markdown",
   "metadata": {},
   "source": [
    "### BA6J | 2-Break On Genome Graph Problem"
   ]
  },
  {
   "cell_type": "code",
   "execution_count": 57,
   "metadata": {
    "collapsed": true
   },
   "outputs": [],
   "source": [
    "with open('../data/rosalind_ba6j.txt') as f:\n",
    "    frm, to = [],[]\n",
    "    line = f.readline().strip().split(',')\n",
    "    for node in line:\n",
    "        if '(' in node:\n",
    "            frm.append(int(node.lstrip(' (')))\n",
    "        elif ')' in node:\n",
    "            to.append(int(node.rstrip(')')))\n",
    "    edges = set(zip(frm,to)) \n",
    "    \n",
    "    i, i_p, j, j_p = [int(x) for x in f.readline().strip().split(',')]"
   ]
  },
  {
   "cell_type": "code",
   "execution_count": 58,
   "metadata": {
    "collapsed": true
   },
   "outputs": [],
   "source": [
    "def TwoBreakOnGenomeGraph(edges, i, i_p, j, j_p):\n",
    "    if (i, i_p) in edges:\n",
    "        edges.remove((i, i_p))\n",
    "        edges.add((i, j))\n",
    "    elif (i_p, i) in edges:\n",
    "        edges.remove((i_p, i))\n",
    "        edges.add((i, j))\n",
    "    if (j, j_p) in edges:\n",
    "        edges.remove((j, j_p))\n",
    "        edges.add((i_p, j_p))\n",
    "    elif (j_p, j) in edges:\n",
    "        edges.remove((j_p, j))\n",
    "        edges.add((i_p, j_p))\n",
    "    return edges"
   ]
  },
  {
   "cell_type": "code",
   "execution_count": 59,
   "metadata": {
    "collapsed": false
   },
   "outputs": [
    {
     "data": {
      "text/plain": [
       "{(1, 3), (2, 4), (6, 8), (7, 5)}"
      ]
     },
     "execution_count": 59,
     "metadata": {},
     "output_type": "execute_result"
    }
   ],
   "source": [
    "TwoBreakOnGenomeGraph(edges, i, i_p, j, j_p)"
   ]
  },
  {
   "cell_type": "markdown",
   "metadata": {},
   "source": [
    "### BA6K | Implement 2-BreakOnGenome"
   ]
  },
  {
   "cell_type": "code",
   "execution_count": 65,
   "metadata": {
    "collapsed": true
   },
   "outputs": [],
   "source": [
    "with open('../data/rosalind_ba6k.txt') as f:\n",
    "    line = f.readline().strip().lstrip('(').rstrip(')').split()\n",
    "    nodes = [int(num) for num in line]\n",
    "    i, i_p, j, j_p = [int(x) for x in f.readline().strip().split(',')]"
   ]
  },
  {
   "cell_type": "code",
   "execution_count": 66,
   "metadata": {
    "collapsed": true
   },
   "outputs": [],
   "source": [
    "def BlackEdges(Chr):\n",
    "    L = ChromosomeToCycle(Chr)\n",
    "    return set(zip(L[::2], L[1::2]))"
   ]
  },
  {
   "cell_type": "code",
   "execution_count": 67,
   "metadata": {
    "collapsed": false
   },
   "outputs": [],
   "source": [
    "def TwoBreakOnGenome(nodes, i, i_p, j, j_p):\n",
    "    \n",
    "    colored_edges = ColoredEdges([nodes])\n",
    "    new_colored_edges = TwoBreakOnGenomeGraph(colored_edges, i, i_p, j, j_p)\n",
    "    # colored edges are undirected\n",
    "    undirct = set()\n",
    "    for e in new_colored_edges:\n",
    "        undirct.add((e[1], e[0]))\n",
    "    new_colored_edges = new_colored_edges.union(undirct)\n",
    "    # black edges are directed\n",
    "    black_edges = BlackEdges(nodes)\n",
    "    U = new_colored_edges.union(black_edges)\n",
    "    all_cycles = FindAllCycles(U)\n",
    "\n",
    "    for c in all_cycles:\n",
    "        print '('+' '.join([\"%+d\" %(x) for x in CycleToChromosome([c[-1]]+c)]) + ')',\n",
    "        #print '('+' '.join([\"%+d\" %(x) for x in CycleToChromosome(c)]) + ')',"
   ]
  },
  {
   "cell_type": "code",
   "execution_count": 68,
   "metadata": {
    "collapsed": false
   },
   "outputs": [
    {
     "name": "stdout",
     "output_type": "stream",
     "text": [
      "(+4 -4) (-2 +2)\n"
     ]
    }
   ],
   "source": [
    "TwoBreakOnGenome(nodes, i, i_p, j, j_p)"
   ]
  }
 ],
 "metadata": {
  "kernelspec": {
   "display_name": "Python 2",
   "language": "python",
   "name": "python2"
  },
  "language_info": {
   "codemirror_mode": {
    "name": "ipython",
    "version": 2
   },
   "file_extension": ".py",
   "mimetype": "text/x-python",
   "name": "python",
   "nbconvert_exporter": "python",
   "pygments_lexer": "ipython2",
   "version": "2.7.13"
  }
 },
 "nbformat": 4,
 "nbformat_minor": 2
}
