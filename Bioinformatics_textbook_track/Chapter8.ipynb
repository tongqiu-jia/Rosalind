{
 "cells": [
  {
   "cell_type": "markdown",
   "metadata": {},
   "source": [
    "### BA8A | Implement FarthestFirstTraversal "
   ]
  },
  {
   "cell_type": "code",
   "execution_count": 1,
   "metadata": {
    "collapsed": false
   },
   "outputs": [],
   "source": [
    "with open('../data/rosalind_ba8a.txt') as f:\n",
    "    k, m = [int(num) for num in f.readline().strip().split()]\n",
    "    points = [tuple(map(float, line.strip().split())) for line in f.readlines()]"
   ]
  },
  {
   "cell_type": "code",
   "execution_count": 2,
   "metadata": {
    "collapsed": true
   },
   "outputs": [],
   "source": [
    "def FarthestFirstTraversal(points, k):\n",
    "    centers = set()\n",
    "    centers.add(points[0])\n",
    "    while len(centers) < k:\n",
    "        datapoint = max(points, key=lambda point: MinDist(point, centers))\n",
    "        centers.add(datapoint)\n",
    "    for center in centers:\n",
    "        print ' '.join(str(c) for c in center)\n",
    "    return centers"
   ]
  },
  {
   "cell_type": "code",
   "execution_count": 3,
   "metadata": {
    "collapsed": true
   },
   "outputs": [],
   "source": [
    "def EuclideanDist(v,w):\n",
    "    m = len(v)\n",
    "    s = sum([(v[dim] - w[dim]) **2 for dim in range(m)])\n",
    "    return s**(1.0/2)"
   ]
  },
  {
   "cell_type": "code",
   "execution_count": 4,
   "metadata": {
    "collapsed": true
   },
   "outputs": [],
   "source": [
    "def MinDist(datapoint, centers):\n",
    "    return min([EuclideanDist(datapoint, x) for x in centers])"
   ]
  },
  {
   "cell_type": "code",
   "execution_count": 5,
   "metadata": {
    "collapsed": false,
    "scrolled": true
   },
   "outputs": [
    {
     "name": "stdout",
     "output_type": "stream",
     "text": [
      "0.0 0.0\n",
      "0.0 5.0\n",
      "5.0 5.0\n"
     ]
    },
    {
     "data": {
      "text/plain": [
       "{(0.0, 0.0), (0.0, 5.0), (5.0, 5.0)}"
      ]
     },
     "execution_count": 5,
     "metadata": {},
     "output_type": "execute_result"
    }
   ],
   "source": [
    "FarthestFirstTraversal(points, k)"
   ]
  },
  {
   "cell_type": "markdown",
   "metadata": {},
   "source": [
    "### BA8B | Squared Error Distortion Problem"
   ]
  },
  {
   "cell_type": "code",
   "execution_count": 6,
   "metadata": {
    "collapsed": false
   },
   "outputs": [],
   "source": [
    "with open('../data/rosalind_ba8b.txt') as f:\n",
    "    k, m = [int(num) for num in f.readline().strip().split()]\n",
    "    centers = set()\n",
    "    line = f.readline()\n",
    "    while line:\n",
    "        if '--' in line:\n",
    "            break\n",
    "        else:\n",
    "            centers.add(tuple(map(float, line.strip().split())))\n",
    "            line = f.readline()\n",
    "    points = [tuple(map(float, line.strip().split())) for line in f.readlines()]"
   ]
  },
  {
   "cell_type": "code",
   "execution_count": 7,
   "metadata": {
    "collapsed": true
   },
   "outputs": [],
   "source": [
    "def EuclideanDist(v,w):\n",
    "    m = len(v)\n",
    "    s = sum([(v[dim] - w[dim]) **2 for dim in range(m)])\n",
    "    return s**(1.0/2)"
   ]
  },
  {
   "cell_type": "code",
   "execution_count": 8,
   "metadata": {
    "collapsed": true
   },
   "outputs": [],
   "source": [
    "def MinDist(datapoint, centers):\n",
    "    return min([EuclideanDist(datapoint, x) for x in centers])"
   ]
  },
  {
   "cell_type": "code",
   "execution_count": 9,
   "metadata": {
    "collapsed": true
   },
   "outputs": [],
   "source": [
    "def Distortion(Data,Centers):\n",
    "    return sum([MinDist(datapoint, centers) **2 for datapoint in Data])/len(Data)"
   ]
  },
  {
   "cell_type": "code",
   "execution_count": 10,
   "metadata": {
    "collapsed": false
   },
   "outputs": [
    {
     "data": {
      "text/plain": [
       "18.24556"
      ]
     },
     "execution_count": 10,
     "metadata": {},
     "output_type": "execute_result"
    }
   ],
   "source": [
    "Distortion(points, centers)"
   ]
  },
  {
   "cell_type": "markdown",
   "metadata": {},
   "source": [
    "### BA8C | Implement the Lloyd algorithm"
   ]
  },
  {
   "cell_type": "code",
   "execution_count": 11,
   "metadata": {
    "collapsed": true
   },
   "outputs": [],
   "source": [
    "with open('../data/rosalind_ba8c.txt') as f:\n",
    "    k, m = [int(num) for num in f.readline().strip().split()]\n",
    "    points = [tuple(map(float, line.strip().split())) for line in f.readlines()]    "
   ]
  },
  {
   "cell_type": "code",
   "execution_count": 12,
   "metadata": {
    "collapsed": false
   },
   "outputs": [],
   "source": [
    "def Gravity(points, m):\n",
    "    return tuple([sum([point[i] for point in points])/float(len(points)) for i in range(m)])"
   ]
  },
  {
   "cell_type": "code",
   "execution_count": 13,
   "metadata": {
    "collapsed": false
   },
   "outputs": [],
   "source": [
    "centers = points[:k]\n",
    "clusters = {}\n",
    "while True:\n",
    "    for i in range(k):\n",
    "        clusters[i] = set()\n",
    "    #centers to clusters\n",
    "    for datapoint in points:\n",
    "        closest_c = min(centers, key=lambda center: EuclideanDist(datapoint, center))\n",
    "        cluster_assign = centers.index(closest_c)\n",
    "        clusters[cluster_assign].add(datapoint)\n",
    "    #clusters to centers\n",
    "    new_centers = [Gravity(clusters[c], m) for c in clusters]\n",
    "    \n",
    "    if new_centers == centers:\n",
    "        break\n",
    "    else:\n",
    "        centers = new_centers"
   ]
  },
  {
   "cell_type": "code",
   "execution_count": 14,
   "metadata": {
    "collapsed": false
   },
   "outputs": [
    {
     "name": "stdout",
     "output_type": "stream",
     "text": [
      "1.800 2.867 \n",
      "1.044 1.156 \n"
     ]
    }
   ],
   "source": [
    "for c in centers:\n",
    "    for num in c:\n",
    "        print \"{:.3f}\".format(num),\n",
    "    print ''"
   ]
  },
  {
   "cell_type": "markdown",
   "metadata": {},
   "source": [
    "### BA8D | Implement the Soft k-Means Clustering Algorithm"
   ]
  },
  {
   "cell_type": "code",
   "execution_count": 15,
   "metadata": {
    "collapsed": true
   },
   "outputs": [],
   "source": [
    "import math\n",
    "with open('../data/rosalind_ba8d.txt') as f:\n",
    "    k, m = [int(num) for num in f.readline().strip().split()]\n",
    "    b = float(f.readline().strip())\n",
    "    points = [tuple(map(float, line.strip().split())) for line in f.readlines()]    "
   ]
  },
  {
   "cell_type": "code",
   "execution_count": 16,
   "metadata": {
    "collapsed": true
   },
   "outputs": [],
   "source": [
    "centers = points[:k]\n",
    "clusters = {}"
   ]
  },
  {
   "cell_type": "code",
   "execution_count": 17,
   "metadata": {
    "collapsed": false
   },
   "outputs": [
    {
     "name": "stdout",
     "output_type": "stream",
     "text": [
      "Wall time: 29 ms\n"
     ]
    }
   ],
   "source": [
    "%%time\n",
    "for itr in range(100):\n",
    "    for i in range(k):\n",
    "        clusters[i] = set()\n",
    "    #hidden matrix should be of size k x n\n",
    "    hidden_mat = []   \n",
    "    for j in range(len(points)):\n",
    "        dnum = sum([math.e**(-b*EuclideanDist(points[j],centers[x])) for x in range(k)])\n",
    "        vect = [math.e**(-b*EuclideanDist(points[j],centers[i]))/dnum for i in range(k)]\n",
    "        hidden_mat.append(vect)\n",
    "    #print hidden_mat\n",
    "    hidden_mat = [list(vect) for vect in zip(*hidden_mat)]\n",
    "   \n",
    "    new_centers = [tuple([sum([points[i][x]*hidden_mat[c][i]/sum(hidden_mat[c]) for i in range(len(points))]) \n",
    "                          for x in range(m)]) for c in range(k)]\n",
    "    if new_centers != centers:\n",
    "        centers = new_centers"
   ]
  },
  {
   "cell_type": "code",
   "execution_count": 18,
   "metadata": {
    "collapsed": false
   },
   "outputs": [
    {
     "name": "stdout",
     "output_type": "stream",
     "text": [
      "1.662 2.623 \n",
      "1.075 1.148 \n"
     ]
    }
   ],
   "source": [
    "for c in centers:\n",
    "    for num in c:\n",
    "        print \"{:.3f}\".format(num),\n",
    "    print ''"
   ]
  },
  {
   "cell_type": "markdown",
   "metadata": {},
   "source": [
    "### BA8E | Implement Hierarchical Clustering"
   ]
  },
  {
   "cell_type": "code",
   "execution_count": 19,
   "metadata": {
    "collapsed": false
   },
   "outputs": [],
   "source": [
    "with open('../data/rosalind_ba8e.txt') as f:\n",
    "    n = int(f.readline().strip())\n",
    "    mat = [map(float, line.strip().split()) for line in f.readlines()]\n",
    "    \n",
    "for vect in mat:\n",
    "    for i in range(len(vect)):\n",
    "        if vect[i] == 0:\n",
    "            vect[i] = float('inf') "
   ]
  },
  {
   "cell_type": "code",
   "execution_count": 20,
   "metadata": {
    "collapsed": false
   },
   "outputs": [],
   "source": [
    "#initialize clusters\n",
    "dist = dict(zip(range(n),mat))\n",
    "clusters = range(n)\n",
    "curr_clusters = range(n)\n",
    "count = n-1\n",
    "maps = {}"
   ]
  },
  {
   "cell_type": "code",
   "execution_count": 21,
   "metadata": {
    "collapsed": false,
    "scrolled": false
   },
   "outputs": [
    {
     "name": "stdout",
     "output_type": "stream",
     "text": [
      "4 6\n",
      "5 7\n",
      "3 4 6\n",
      "1 2\n",
      "5 7 3 4 6\n",
      "1 2 5 7 3 4 6\n"
     ]
    }
   ],
   "source": [
    "#print dist\n",
    "while len(curr_clusters) > 1:\n",
    "    # find the two clusters that are most close together \n",
    "    min_vals = [min([val for val in dist[point] if val > 0]) for point in clusters]\n",
    "    c1 = min_vals.index(min(min_vals))\n",
    "    c2 = dist[c1].index(min(min_vals))\n",
    "    \n",
    "    w1, w2 = 1, 1\n",
    "    if c1 in maps:\n",
    "        w1 = len(maps[c1])\n",
    "    if c2 in maps:\n",
    "        w2 = len(maps[c2])\n",
    "    \n",
    "    new_dist = [(x*w1 + y*w2)/(w1+w2) for x, y in zip(dist[c1], dist[c2])] + [float('inf')]\n",
    "\n",
    "    for i in dist.keys():\n",
    "        dist[i].append(new_dist[i])\n",
    "        dist[i][c1] = float('inf')\n",
    "        dist[i][c2] = float('inf')\n",
    "    dist[c1] = [float('inf')]*len(dist[c1])\n",
    "    dist[c2] = [float('inf')]*len(dist[c2])\n",
    "\n",
    "    count += 1\n",
    "    dist[count] = new_dist\n",
    "    clusters.append(count)\n",
    "    curr_clusters.append(count)\n",
    "    maps[count] = []\n",
    "    for c in [c1, c2]:\n",
    "        if c in maps:\n",
    "            maps[count] += maps[c]\n",
    "        else:\n",
    "            maps[count] += [c]\n",
    "\n",
    "    curr_clusters.remove(c1)\n",
    "    curr_clusters.remove(c2)\n",
    "    result = []\n",
    "    for c in [c1, c2]:\n",
    "        if c in maps:\n",
    "            result+=maps[c]\n",
    "        else:\n",
    "            result.append(c)\n",
    "    print ' '.join([str(x+1) for x in result])"
   ]
  }
 ],
 "metadata": {
  "kernelspec": {
   "display_name": "Python 2",
   "language": "python",
   "name": "python2"
  },
  "language_info": {
   "codemirror_mode": {
    "name": "ipython",
    "version": 2
   },
   "file_extension": ".py",
   "mimetype": "text/x-python",
   "name": "python",
   "nbconvert_exporter": "python",
   "pygments_lexer": "ipython2",
   "version": "2.7.13"
  }
 },
 "nbformat": 4,
 "nbformat_minor": 2
}
