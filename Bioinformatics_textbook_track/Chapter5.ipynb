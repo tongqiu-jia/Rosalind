{
 "cells": [
  {
   "cell_type": "markdown",
   "metadata": {},
   "source": [
    "### BA5A | The Change Problem"
   ]
  },
  {
   "cell_type": "code",
   "execution_count": 1,
   "metadata": {
    "collapsed": true
   },
   "outputs": [],
   "source": [
    "money = 40\n",
    "coins = [1,5,10,20,25,50]"
   ]
  },
  {
   "cell_type": "code",
   "execution_count": 2,
   "metadata": {
    "collapsed": true
   },
   "outputs": [],
   "source": [
    "def DPchange(money, coins):\n",
    "    mincoins = [float(\"inf\")]*(money+1)\n",
    "    mincoins[0] = 0\n",
    "    for m in range(1, money+1):\n",
    "        for i in range(len(coins)):\n",
    "            if m >= coins[i]:\n",
    "                if mincoins[m-coins[i]]+1 < mincoins[m]:\n",
    "                    mincoins[m] = mincoins[m-coins[i]]+1\n",
    "    return mincoins[money]\n",
    "    "
   ]
  },
  {
   "cell_type": "code",
   "execution_count": 3,
   "metadata": {
    "collapsed": false
   },
   "outputs": [
    {
     "data": {
      "text/plain": [
       "2"
      ]
     },
     "execution_count": 3,
     "metadata": {},
     "output_type": "execute_result"
    }
   ],
   "source": [
    "DPchange(money, coins)"
   ]
  },
  {
   "cell_type": "markdown",
   "metadata": {},
   "source": [
    "### BA5B | Length of a Longest Path in the Manhattan Tourist Problem"
   ]
  },
  {
   "cell_type": "code",
   "execution_count": 4,
   "metadata": {
    "collapsed": false
   },
   "outputs": [],
   "source": [
    "with open('../data/rosalind_ba5b.txt', 'r') as f:\n",
    "    n, m = [int(i) for i in f.readline().strip().split()]\n",
    "    lines = f.readlines()\n",
    "    brk_idx = lines.index('-\\n')\n",
    "    down = [[int(x) for x in l.strip().split()] for l in lines[:brk_idx]]\n",
    "    right = [[int(x) for x in l.strip().split()] for l in lines[brk_idx+1:]]"
   ]
  },
  {
   "cell_type": "code",
   "execution_count": 5,
   "metadata": {
    "collapsed": true
   },
   "outputs": [],
   "source": [
    "def Manhattan(n, m, down, right):\n",
    "    s = [[0 for r in range(m+1)] for d in range(n+1)] \n",
    "    for i in range(1,n+1):\n",
    "        s[i][0] = s[i-1][0]+down[i-1][0]\n",
    "    for j in range(1,m+1):\n",
    "        s[0][j] = s[0][j-1] + right[0][j-1]\n",
    "\n",
    "    for i in range(1, n+1): \n",
    "        for j in range(1, m+1):\n",
    "            s[i][j] = max(s[i-1][j]+down[i-1][j], s[i][j-1]+right[i][j-1])\n",
    "    return s[n][m]"
   ]
  },
  {
   "cell_type": "code",
   "execution_count": 6,
   "metadata": {
    "collapsed": false
   },
   "outputs": [
    {
     "data": {
      "text/plain": [
       "34"
      ]
     },
     "execution_count": 6,
     "metadata": {},
     "output_type": "execute_result"
    }
   ],
   "source": [
    "Manhattan(n,m,down,right)"
   ]
  },
  {
   "cell_type": "markdown",
   "metadata": {},
   "source": [
    "### BA5C | Longest Common Subsequence Problem"
   ]
  },
  {
   "cell_type": "code",
   "execution_count": 7,
   "metadata": {
    "collapsed": true
   },
   "outputs": [],
   "source": [
    "str1 = 'AACCTTGG'\n",
    "str2 = 'ACACTGTGA'"
   ]
  },
  {
   "cell_type": "code",
   "execution_count": 8,
   "metadata": {
    "collapsed": true
   },
   "outputs": [],
   "source": [
    "def LSC(str1, str2):\n",
    "    n = len(str1)\n",
    "    m = len(str2)\n",
    "    s = [[0 for x in range(m+1)] for y in range(n+1)] \n",
    "    backtrack = [[0 for x in range(m+1)] for y in range(n+1)] \n",
    "    \n",
    "    for i in range(1,n+1):\n",
    "        for j in range(1,m+1):\n",
    "            if str1[i-1] == str2[j-1]:\n",
    "                s[i][j] = s[i-1][j-1]+1\n",
    "                backtrack[i][j] = 1\n",
    "            else:\n",
    "                s[i][j] = max(s[i-1][j-1], s[i-1][j], s[i][j-1])\n",
    "                if s[i][j] == s[i-1][j-1]:\n",
    "                    backtrack[i][j] = 1\n",
    "                elif s[i][j] == s[i-1][j]:\n",
    "                    backtrack[i][j] = 2\n",
    "                elif s[i][j] == s[i][j-1]:\n",
    "                    backtrack[i][j] = 3\n",
    "    i,j = n,m\n",
    "    lcs = ''\n",
    "    while s[i][j] > 0:\n",
    "        if backtrack[i][j] == 1:\n",
    "            if str1[i-1] == str2[j-1]:\n",
    "                lcs += str1[i-1]\n",
    "            i = i-1\n",
    "            j = j-1\n",
    "        elif backtrack[i][j] == 2:\n",
    "            i = i-1\n",
    "        elif backtrack[i][j] == 3:\n",
    "            j = j-1\n",
    "        \n",
    "    return lcs[::-1] "
   ]
  },
  {
   "cell_type": "code",
   "execution_count": 9,
   "metadata": {
    "collapsed": false
   },
   "outputs": [
    {
     "data": {
      "text/plain": [
       "'AACTTG'"
      ]
     },
     "execution_count": 9,
     "metadata": {},
     "output_type": "execute_result"
    }
   ],
   "source": [
    "LSC(str1, str2)"
   ]
  },
  {
   "cell_type": "markdown",
   "metadata": {},
   "source": [
    "### BA5D |  Longest Path"
   ]
  },
  {
   "cell_type": "code",
   "execution_count": 18,
   "metadata": {
    "collapsed": false
   },
   "outputs": [],
   "source": [
    "graph = {}\n",
    "weights = {}\n",
    "with open('../data/rosalind_ba5d.txt') as f:\n",
    "    source = f.readline().strip()\n",
    "    sink = f.readline().strip()\n",
    "    lines = [line.strip().split('->') for line in f.readlines()]\n",
    "    for line in lines:\n",
    "        from_node = line[0]\n",
    "        to_node = line[1].split(':')[0]\n",
    "        weights[(from_node, to_node)] = line[1].split(':')[1]\n",
    "        if from_node not in graph:\n",
    "            graph[from_node] = [to_node]\n",
    "        else:\n",
    "            graph[from_node].append(to_node)"
   ]
  },
  {
   "cell_type": "code",
   "execution_count": 24,
   "metadata": {
    "collapsed": true
   },
   "outputs": [],
   "source": [
    "def TopologicalOrder(graph):\n",
    "    in_degree = {node:0 for node in graph}\n",
    "    for u in graph:\n",
    "        for v in graph[u]:\n",
    "            if v not in in_degree:\n",
    "                in_degree[v] = 1\n",
    "            else:\n",
    "                in_degree[v]+= 1\n",
    "\n",
    "    order = []\n",
    "    candidates = []\n",
    "    for node in in_degree:\n",
    "        if in_degree[node] == 0:\n",
    "            candidates.append(node)\n",
    "\n",
    "    while len(candidates) > 0:\n",
    "        a = candidates.pop()\n",
    "        order.append(a)\n",
    "\n",
    "        if a in graph:\n",
    "            for b in graph[a]:\n",
    "                in_degree[b] -= 1\n",
    "                if in_degree[b] == 0:\n",
    "                    candidates.append(b)\n",
    "    return order"
   ]
  },
  {
   "cell_type": "code",
   "execution_count": 25,
   "metadata": {
    "collapsed": true
   },
   "outputs": [],
   "source": [
    "def LongestPath(graph):\n",
    "    rev_graph = {}\n",
    "    for u in graph:\n",
    "        for v in graph[u]:\n",
    "            if v not in rev_graph:\n",
    "                rev_graph[v] = [u]\n",
    "            else:\n",
    "                rev_graph[v].append(u) \n",
    "\n",
    "    # get all nodes in graph\n",
    "    nodes = set(graph.keys())\n",
    "    for n in graph.keys():\n",
    "        nodes = nodes.union(set(graph[n]))\n",
    "\n",
    "    topological = TopologicalOrder(graph)   \n",
    "\n",
    "    s = {node: -200 for node in nodes}\n",
    "    backtrack = {node: None for node in topological}\n",
    "    s[source] = 0\n",
    "    \n",
    "    for node in topological[1:]:\n",
    "        try:\n",
    "            s[node] = max([int(s[n])+int(weights[(n,node)]) for n in rev_graph[node]])\n",
    "            for n in rev_graph[node]:\n",
    "                if s[node] == int(s[n])+int(weights[(n,node)]):\n",
    "                    backtrack[node] = n\n",
    "        except KeyError:\n",
    "            pass\n",
    "     \n",
    "    path = [sink]\n",
    "    curr = sink\n",
    "    while curr != source:\n",
    "        path.append(backtrack[curr])\n",
    "        curr = backtrack[curr]\n",
    "    print s[sink]\n",
    "    print '->'.join(path[::-1])\n",
    "    return "
   ]
  },
  {
   "cell_type": "code",
   "execution_count": 26,
   "metadata": {
    "collapsed": false
   },
   "outputs": [
    {
     "name": "stdout",
     "output_type": "stream",
     "text": [
      "9\n",
      "0->2->3->4\n"
     ]
    }
   ],
   "source": [
    "LongestPath(graph)"
   ]
  },
  {
   "cell_type": "markdown",
   "metadata": {},
   "source": [
    "### BA5E | Global Alignment Problem"
   ]
  },
  {
   "cell_type": "code",
   "execution_count": 27,
   "metadata": {
    "collapsed": true
   },
   "outputs": [],
   "source": [
    "from Bio.SubsMat.MatrixInfo import blosum62"
   ]
  },
  {
   "cell_type": "code",
   "execution_count": 41,
   "metadata": {
    "collapsed": false
   },
   "outputs": [],
   "source": [
    "def GloabalAlignment(str1, str2, penalty, score_mat):\n",
    "    n = len(str1)\n",
    "    m = len(str2)\n",
    "    s = [[0 for x in range(m+1)] for y in range(n+1)]\n",
    "    backtrack = [[0 for x in range(m+1)] for y in range(n+1)] \n",
    "    \n",
    "    for i in range(n+1):\n",
    "        s[i][0] = -i*penalty\n",
    "    for j in range(m+1):\n",
    "        s[0][j] = -j*penalty\n",
    "    for i in range(1,n+1):\n",
    "        for j in range(1, m+1):\n",
    "            s[i][j] = max(s[i-1][j-1]+score_mat[(str1[i-1], str2[j-1])], s[i-1][j]-penalty, s[i][j-1]-penalty)\n",
    "            \n",
    "            if s[i][j] == (s[i-1][j-1]+score_mat[(str1[i-1], str2[j-1])]):\n",
    "                backtrack[i][j] = 1\n",
    "            elif s[i][j] == s[i-1][j]-penalty:\n",
    "                backtrack[i][j] = 2\n",
    "            elif s[i][j] == s[i][j-1]-penalty:\n",
    "                backtrack[i][j] = 3\n",
    "    \n",
    "    align1, align2 = '', ''\n",
    "    i, j = n, m\n",
    "    while (i >0 ) and (j > 0):\n",
    "        if backtrack[i][j] == 1:\n",
    "            align1 += str1[i-1]\n",
    "            align2 += str2[j-1]\n",
    "            i = i-1\n",
    "            j = j-1\n",
    "        elif backtrack[i][j] == 2:\n",
    "            align1 += str1[i-1]\n",
    "            align2 += '-'\n",
    "            i = i-1\n",
    "        elif backtrack[i][j] == 3:\n",
    "            align1 += '-'\n",
    "            align2 += str2[j-1]\n",
    "            j = j-1\n",
    "    print s[n][m]\n",
    "    print align1[::-1]\n",
    "    print align2[::-1]\n",
    "    #return s"
   ]
  },
  {
   "cell_type": "code",
   "execution_count": 42,
   "metadata": {
    "collapsed": false
   },
   "outputs": [],
   "source": [
    "str1 = 'PLEASANTLY'\n",
    "str2 = 'MEANLY'"
   ]
  },
  {
   "cell_type": "code",
   "execution_count": 43,
   "metadata": {
    "collapsed": false
   },
   "outputs": [],
   "source": [
    "blosum62_update = {}\n",
    "for pair in blosum62:\n",
    "    blosum62_update[pair] = blosum62[pair]\n",
    "    blosum62_update[(pair[1], pair[0])] = blosum62[pair]"
   ]
  },
  {
   "cell_type": "code",
   "execution_count": 44,
   "metadata": {
    "collapsed": false
   },
   "outputs": [
    {
     "name": "stdout",
     "output_type": "stream",
     "text": [
      "8\n",
      "LEASANTLY\n",
      "ME--AN-LY\n"
     ]
    }
   ],
   "source": [
    "GloabalAlignment(str1, str2, 5, blosum62_update)"
   ]
  },
  {
   "cell_type": "markdown",
   "metadata": {},
   "source": [
    "### BA5F | Local Alignment Problem"
   ]
  },
  {
   "cell_type": "code",
   "execution_count": 45,
   "metadata": {
    "collapsed": true
   },
   "outputs": [],
   "source": [
    "from Bio.SubsMat.MatrixInfo import pam250"
   ]
  },
  {
   "cell_type": "code",
   "execution_count": 46,
   "metadata": {
    "collapsed": true
   },
   "outputs": [],
   "source": [
    "str1 = 'PENALTY'\n",
    "str2 = 'MEANLY'"
   ]
  },
  {
   "cell_type": "code",
   "execution_count": 47,
   "metadata": {
    "collapsed": true
   },
   "outputs": [],
   "source": [
    "def LocalAlignment(str1, str2, penalty, score_mat):\n",
    "    n = len(str1)\n",
    "    m = len(str2)\n",
    "    s = [[0 for x in range(m+1)] for y in range(n+1)]\n",
    "    backtrack = [[0 for x in range(m+1)] for y in range(n+1)] \n",
    "    max_loc= (0,0)\n",
    "    max_score = 0\n",
    "    \n",
    "    for i in range(1,n+1):\n",
    "        for j in range(1, m+1):\n",
    "            s[i][j] = max(0, s[i-1][j-1]+score_mat[(str1[i-1], str2[j-1])], s[i-1][j]-penalty, s[i][j-1]-penalty)\n",
    "            \n",
    "            if s[i][j] > max_score:\n",
    "                max_score = s[i][j]\n",
    "                max_loc = (i, j)\n",
    "                \n",
    "            if s[i][j] == (s[i-1][j-1]+score_mat[(str1[i-1], str2[j-1])]):\n",
    "                backtrack[i][j] = 1\n",
    "            elif s[i][j] == s[i-1][j]-penalty:\n",
    "                backtrack[i][j] = 2\n",
    "            elif s[i][j] == s[i][j-1]-penalty:\n",
    "                backtrack[i][j] = 3\n",
    "\n",
    "    align1, align2 = '', ''\n",
    "    i, j = max_loc[0], max_loc[1]\n",
    "    \n",
    "    while s[i][j] > 0:\n",
    "        if backtrack[i][j] == 1:\n",
    "            align1 += str1[i-1]\n",
    "            align2 += str2[j-1]\n",
    "            i = i-1\n",
    "            j = j-1\n",
    "        elif backtrack[i][j] == 2:\n",
    "            align1 += str1[i-1]\n",
    "            align2 += '-'\n",
    "            i = i-1\n",
    "        elif backtrack[i][j] == 3:\n",
    "            align1 += '-'\n",
    "            align2 += str2[j-1]\n",
    "            j = j-1\n",
    "        else:\n",
    "            break\n",
    "    print max_score\n",
    "    print align1[::-1]\n",
    "    print align2[::-1]\n",
    "    return "
   ]
  },
  {
   "cell_type": "code",
   "execution_count": 48,
   "metadata": {
    "collapsed": true
   },
   "outputs": [],
   "source": [
    "pam250_update = {}\n",
    "for pair in pam250:\n",
    "    pam250_update[pair] = pam250[pair]\n",
    "    pam250_update[(pair[1], pair[0])] = pam250[pair]"
   ]
  },
  {
   "cell_type": "code",
   "execution_count": 49,
   "metadata": {
    "collapsed": false
   },
   "outputs": [
    {
     "name": "stdout",
     "output_type": "stream",
     "text": [
      "15\n",
      "ENALTY\n",
      "EANL-Y\n"
     ]
    }
   ],
   "source": [
    "LocalAlignment(str1, str2, 5, pam250_update)"
   ]
  },
  {
   "cell_type": "markdown",
   "metadata": {},
   "source": [
    "### BA5G | Edit Distance Problem"
   ]
  },
  {
   "cell_type": "code",
   "execution_count": 53,
   "metadata": {
    "collapsed": true
   },
   "outputs": [],
   "source": [
    "def EditDist(str1, str2):\n",
    "    n = len(str1)\n",
    "    m = len(str2)\n",
    "    s = [[0 for x in range(m+1)] for y in range(n+1)] \n",
    "    for i in range(n+1):\n",
    "        s[i][0] = i\n",
    "    for j in range(m+1):\n",
    "        s[0][j] = j\n",
    "    for i in range(1,n+1):\n",
    "        for j in range(1,m+1):\n",
    "            if str1[i-1] == str2[j-1]:\n",
    "                s[i][j] = s[i-1][j-1]\n",
    "            else:\n",
    "                s[i][j] = min(s[i-1][j-1], s[i-1][j], s[i][j-1])+1\n",
    "    return s[n][m]"
   ]
  },
  {
   "cell_type": "code",
   "execution_count": 54,
   "metadata": {
    "collapsed": true
   },
   "outputs": [],
   "source": [
    "str1 = 'PLEASANTLY'\n",
    "str2 = 'MEANLY'"
   ]
  },
  {
   "cell_type": "code",
   "execution_count": 55,
   "metadata": {
    "collapsed": false
   },
   "outputs": [
    {
     "data": {
      "text/plain": [
       "5"
      ]
     },
     "execution_count": 55,
     "metadata": {},
     "output_type": "execute_result"
    }
   ],
   "source": [
    "EditDist(str1, str2)"
   ]
  },
  {
   "cell_type": "markdown",
   "metadata": {},
   "source": [
    "### BA5H | Fitting Alignment"
   ]
  },
  {
   "cell_type": "code",
   "execution_count": 50,
   "metadata": {
    "collapsed": true
   },
   "outputs": [],
   "source": [
    "def FittingAlignment(str1, str2):\n",
    "    n = len(str1)\n",
    "    m = len(str2)\n",
    "    s = [[0 for x in range(m+1)] for y in range(n+1)]\n",
    "    backtrack = [[0 for x in range(m+1)] for y in range(n+1)] \n",
    "    \n",
    "\n",
    "    for i in range(1,n+1):\n",
    "        for j in range(1, m+1):\n",
    "            if str1[i-1] == str2[j-1]:\n",
    "                s[i][j] = max(s[i-1][j-1]+1, s[i-1][j]-1, s[i][j-1]-1)\n",
    "                if s[i][j] == s[i-1][j-1]+1:\n",
    "                    backtrack[i][j] = 1\n",
    "                elif s[i][j] == s[i-1][j]-1:\n",
    "                    backtrack[i][j] = 2\n",
    "                elif s[i][j] == s[i][j-1]-1:\n",
    "                    backtrack[i][j] = 3\n",
    "            else:\n",
    "                s[i][j] = max(s[i-1][j-1]-1, s[i-1][j]-1, s[i][j-1]-1)\n",
    "                if s[i][j] == s[i-1][j-1]-1:\n",
    "                    backtrack[i][j] = 1\n",
    "                elif s[i][j] == s[i-1][j]-1:\n",
    "                    backtrack[i][j] = 2\n",
    "                elif s[i][j] == s[i][j-1]-1:\n",
    "                    backtrack[i][j] = 3                \n",
    "    \n",
    "    align1, align2 = '', ''\n",
    "    j = m\n",
    "    max_val = -1\n",
    "    for x in range(m, n):\n",
    "        if s[x][j] > max_val:\n",
    "            max_val = s[x][j]\n",
    "            i = x\n",
    "    \n",
    "    while (i > 0 ) and (j > 0):\n",
    "        if backtrack[i][j] == 1:\n",
    "            align1 += str1[i-1]\n",
    "            align2 += str2[j-1]\n",
    "            i = i-1\n",
    "            j = j-1\n",
    "        elif backtrack[i][j] == 2:\n",
    "            align1 += str1[i-1]\n",
    "            align2 += '-'\n",
    "            i = i-1\n",
    "        elif backtrack[i][j] == 3:\n",
    "            align1 += '-'\n",
    "            align2 += str2[j-1]\n",
    "            j = j-1\n",
    "    print max_val\n",
    "    print align1[::-1]\n",
    "    print align2[::-1]\n",
    "    return "
   ]
  },
  {
   "cell_type": "code",
   "execution_count": 56,
   "metadata": {
    "collapsed": true
   },
   "outputs": [],
   "source": [
    "str1 = 'GTAGGCTTAAGGTTA'\n",
    "str2 = 'TAGATA'"
   ]
  },
  {
   "cell_type": "code",
   "execution_count": 57,
   "metadata": {
    "collapsed": false
   },
   "outputs": [
    {
     "name": "stdout",
     "output_type": "stream",
     "text": [
      "2\n",
      "TAGGCTTA\n",
      "TA-G-ATA\n"
     ]
    }
   ],
   "source": [
    "FittingAlignment(str1, str2)"
   ]
  },
  {
   "cell_type": "markdown",
   "metadata": {
    "collapsed": true
   },
   "source": [
    "### BA5I | Overlap Alignment "
   ]
  },
  {
   "cell_type": "code",
   "execution_count": 58,
   "metadata": {
    "collapsed": true
   },
   "outputs": [],
   "source": [
    "def OverlapAlignment(str1, str2):\n",
    "    n = len(str1)\n",
    "    m = len(str2)\n",
    "    s = [[0 for x in range(m+1)] for y in range(n+1)]\n",
    "    backtrack = [[0 for x in range(m+1)] for y in range(n+1)] \n",
    "    max_loc = (0,0)\n",
    "    max_score = -float('inf')\n",
    "\n",
    "    for i in range(1,n+1):\n",
    "        for j in range(1, m+1):\n",
    "            if str1[i-1] == str2[j-1]:\n",
    "                s[i][j] = max(s[i-1][j-1]+1, s[i-1][j]-2, s[i][j-1]-2)\n",
    "                if s[i][j] == s[i-1][j-1]+1:\n",
    "                    backtrack[i][j] = 1\n",
    "                elif s[i][j] == s[i-1][j]-2:\n",
    "                    backtrack[i][j] = 2\n",
    "                elif s[i][j] == s[i][j-1]-2:\n",
    "                    backtrack[i][j] = 3\n",
    "            else:\n",
    "                s[i][j] = max(s[i-1][j-1]-2, s[i-1][j]-2, s[i][j-1]-2)\n",
    "                if s[i][j] == s[i-1][j-1]-2:\n",
    "                    backtrack[i][j] = 1\n",
    "                elif s[i][j] == s[i-1][j]-2:\n",
    "                    backtrack[i][j] = 2\n",
    "                elif s[i][j] == s[i][j-1]-2:\n",
    "                    backtrack[i][j] = 3                \n",
    "    for i in range(1, n+1):\n",
    "        for j in range(1, m+1):\n",
    "            if s[i][m]> max_score:\n",
    "                max_score = s[i][m]\n",
    "                max_loc = (i, m)\n",
    "            if s[n][j] > max_score:\n",
    "                max_score = s[n][j]\n",
    "                max_loc = (n, j)\n",
    "                \n",
    "    align1, align2 = '', ''\n",
    "    i = max_loc[0]\n",
    "    j = max_loc[1]\n",
    "    \n",
    "    while (i > 0 ) and (j > 0):\n",
    "        if backtrack[i][j] == 1:\n",
    "            align1 += str1[i-1]\n",
    "            align2 += str2[j-1]\n",
    "            i = i-1\n",
    "            j = j-1\n",
    "        elif backtrack[i][j] == 2:\n",
    "            align1 += str1[i-1]\n",
    "            align2 += '-'\n",
    "            i = i-1\n",
    "        elif backtrack[i][j] == 3:\n",
    "            align1 += '-'\n",
    "            align2 += str2[j-1]\n",
    "            j = j-1\n",
    "    print max_score\n",
    "    print align1[::-1]\n",
    "    print align2[::-1]\n",
    "    return "
   ]
  },
  {
   "cell_type": "code",
   "execution_count": 59,
   "metadata": {
    "collapsed": true
   },
   "outputs": [],
   "source": [
    "str1 = 'PAWHEAE'\n",
    "str2 = 'HEAGAWGHEE'"
   ]
  },
  {
   "cell_type": "code",
   "execution_count": 60,
   "metadata": {
    "collapsed": false
   },
   "outputs": [
    {
     "name": "stdout",
     "output_type": "stream",
     "text": [
      "1\n",
      "HEAE\n",
      "HEA-\n"
     ]
    }
   ],
   "source": [
    "OverlapAlignment(str1, str2)"
   ]
  },
  {
   "cell_type": "markdown",
   "metadata": {},
   "source": [
    "### BA5N | Topological Ordering"
   ]
  },
  {
   "cell_type": "code",
   "execution_count": 65,
   "metadata": {
    "collapsed": true
   },
   "outputs": [],
   "source": [
    "def TopologicalOrder(graph):\n",
    "    in_degree = {node:0 for node in graph}\n",
    "    for u in graph:\n",
    "        for v in graph[u]:\n",
    "            if v not in in_degree:\n",
    "                in_degree[v] = 1\n",
    "            else:\n",
    "                in_degree[v]+= 1\n",
    "\n",
    "    order = []\n",
    "    candidates = []\n",
    "    for node in in_degree:\n",
    "        if in_degree[node] == 0:\n",
    "            candidates.append(node)\n",
    "\n",
    "    while len(candidates) > 0:\n",
    "        a = candidates.pop()\n",
    "        order.append(a)\n",
    "\n",
    "        if a in graph:\n",
    "            for b in graph[a]:\n",
    "                in_degree[b] -= 1\n",
    "                if in_degree[b] == 0:\n",
    "                    candidates.append(b)\n",
    "    print ', '.join(node for node in order)\n",
    "    return order"
   ]
  },
  {
   "cell_type": "code",
   "execution_count": 66,
   "metadata": {
    "collapsed": false
   },
   "outputs": [],
   "source": [
    "with open('../data/rosalind_ba5n.txt') as f:\n",
    "    graph ={}\n",
    "    lines = [line.strip().split(' -> ') for line in f.readlines()]\n",
    "    for line in lines:\n",
    "        from_node = line[0]\n",
    "        to_node = line[1].split(',')\n",
    "        if from_node not in graph:\n",
    "            graph[from_node] = to_node"
   ]
  },
  {
   "cell_type": "code",
   "execution_count": 67,
   "metadata": {
    "collapsed": false
   },
   "outputs": [
    {
     "name": "stdout",
     "output_type": "stream",
     "text": [
      "4, 5, 1, 2, 3\n"
     ]
    },
    {
     "data": {
      "text/plain": [
       "['4', '5', '1', '2', '3']"
      ]
     },
     "execution_count": 67,
     "metadata": {},
     "output_type": "execute_result"
    }
   ],
   "source": [
    "TopologicalOrder(graph)"
   ]
  },
  {
   "cell_type": "markdown",
   "metadata": {},
   "source": [
    "### BA5M | Multiple Longest Common Subsequence Problem"
   ]
  },
  {
   "cell_type": "code",
   "execution_count": 68,
   "metadata": {
    "collapsed": false
   },
   "outputs": [],
   "source": [
    "with open('../data/rosalind_ba5m.txt') as f:\n",
    "    str1, str2, str3 = (string.strip() for string in f.readlines())"
   ]
  },
  {
   "cell_type": "code",
   "execution_count": 76,
   "metadata": {
    "collapsed": true
   },
   "outputs": [],
   "source": [
    "def MultipleAlignment(str1, str2, str3):\n",
    "    l, m, n = len(str1), len(str2), len(str3)\n",
    "    s = [[[0 for x in range(n+1)] for y in range(m+1)] for z in range(l+1)]\n",
    "    backtrack = [[[0 for x in range(n+1)] for y in range(m+1)] for z in range(l+1)]\n",
    "\n",
    "    for i in range(1, l+1):\n",
    "        for j in range(1, m+1):\n",
    "            for k in range(1, n+1):\n",
    "                reward = 0\n",
    "                if str1[i-1] == str2[j-1] == str3[k-1]:\n",
    "                    reward = 1\n",
    "                s[i][j][k] = max(s[i-1][j-1][k-1]+reward,\n",
    "                                 s[i][j-1][k-1],\n",
    "                                 s[i-1][j][k-1],\n",
    "                                 s[i-1][j-1][k],\n",
    "                                 s[i][j][k-1],\n",
    "                                 s[i][j-1][k],\n",
    "                                 s[i-1][j][k])\n",
    "                if s[i][j][k] == s[i-1][j-1][k-1]+reward:\n",
    "                    backtrack[i][j][k] = 0\n",
    "                elif s[i][j][k] == s[i][j-1][k-1]:\n",
    "                    backtrack[i][j][k] = 1\n",
    "                elif s[i][j][k] == s[i-1][j][k-1]:\n",
    "                    backtrack[i][j][k] = 2\n",
    "                elif s[i][j][k] == s[i-1][j-1][k]:\n",
    "                    backtrack[i][j][k] = 3\n",
    "                elif s[i][j][k] == s[i][j][k-1]:\n",
    "                    backtrack[i][j][k] = 4\n",
    "                elif s[i][j][k] == s[i][j-1][k]:\n",
    "                    backtrack[i][j][k] = 5\n",
    "                elif s[i][j][k] == s[i-1][j][k]:\n",
    "                    backtrack[i][j][k] = 6\n",
    "\n",
    "\n",
    "    align1, align2, align3 = '','',''\n",
    "    i, j, k = l, m, n\n",
    "\n",
    "    while s[i][j][k] > 0:\n",
    "        if backtrack[i][j][k] == 0:\n",
    "            align1 += str1[i-1]\n",
    "            align2 += str2[j-1]\n",
    "            align3 += str3[k-1]\n",
    "            i -= 1\n",
    "            j -= 1\n",
    "            k -= 1\n",
    "        elif backtrack[i][j][k] == 1:\n",
    "            align1 += '-'\n",
    "            align2 += str2[j-1]\n",
    "            align3 += str3[k-1]\n",
    "            j -= 1\n",
    "            k -= 1\n",
    "        elif backtrack[i][j][k] == 2:\n",
    "            align1 += str1[i-1]\n",
    "            align2 += '-'\n",
    "            align3 += str3[k-1]\n",
    "            i -= 1\n",
    "            k -= 1\n",
    "        elif backtrack[i][j][k] == 3:\n",
    "            align1 += str1[i-1]\n",
    "            align2 += str2[j-1]\n",
    "            align3 += '-'\n",
    "            i -= 1\n",
    "            j -= 1\n",
    "        elif backtrack[i][j][k] == 4:\n",
    "            align1 += '-'\n",
    "            align2 += '-'\n",
    "            align3 += str3[k-1]\n",
    "            k -= 1\n",
    "        elif backtrack[i][j][k] == 5:\n",
    "            align1 += '-'\n",
    "            align2 += str2[j-1]\n",
    "            align3 += '-'\n",
    "            j -= 1\n",
    "        elif backtrack[i][j][k] == 6:\n",
    "            align1 += str1[i-1]\n",
    "            align2 += '-'\n",
    "            align3 += '-'\n",
    "            i -= 1\n",
    "\n",
    "    strings = [str1, str2, str3]\n",
    "    alignments = [align1[::-1], align2[::-1], align3[::-1]]\n",
    "    patch = ['','','']\n",
    "    for i, a in enumerate(alignments):\n",
    "        if a[0] != strings[i][0]:\n",
    "            for j in range(len(strings[i])):\n",
    "                if strings[i][j] != a[0]:\n",
    "                    patch[i] += strings[i][j]\n",
    "                else:\n",
    "                    break\n",
    "    max_l = max([len(p) for p in patch])\n",
    "    patch = ['-'*(max_l - len(p))+p for p in patch]    \n",
    "    for i in range(3):\n",
    "        alignments[i] = patch[i] + alignments[i]\n",
    "\n",
    "    print s[l][m][n]\n",
    "    for a in alignments:\n",
    "        print a"
   ]
  },
  {
   "cell_type": "code",
   "execution_count": 78,
   "metadata": {
    "collapsed": false
   },
   "outputs": [
    {
     "name": "stdout",
     "output_type": "stream",
     "text": [
      "3\n",
      "AT-ATCCG-\n",
      "-T---CCGA\n",
      "ATGTACTG-\n"
     ]
    }
   ],
   "source": [
    "MultipleAlignment(str1, str2, str3)"
   ]
  },
  {
   "cell_type": "markdown",
   "metadata": {},
   "source": [
    "### BA5K | Middle Edge in Linear Space Problem"
   ]
  },
  {
   "cell_type": "code",
   "execution_count": 88,
   "metadata": {
    "collapsed": true
   },
   "outputs": [],
   "source": [
    "from Bio.SubsMat.MatrixInfo import blosum62\n",
    "blosum62_update = {}\n",
    "for pair in blosum62:\n",
    "    blosum62_update[pair] = blosum62[pair]\n",
    "    blosum62_update[(pair[1], pair[0])] = blosum62[pair]"
   ]
  },
  {
   "cell_type": "code",
   "execution_count": 89,
   "metadata": {
    "collapsed": true
   },
   "outputs": [],
   "source": [
    "score_mat = blosum62_update\n",
    "penalty = 5"
   ]
  },
  {
   "cell_type": "code",
   "execution_count": 90,
   "metadata": {
    "collapsed": false
   },
   "outputs": [],
   "source": [
    "with open('../data/rosalind_ba5k.txt') as f:\n",
    "    str1, str2 = (string.strip() for string in f.readlines())"
   ]
  },
  {
   "cell_type": "code",
   "execution_count": 91,
   "metadata": {
    "collapsed": true
   },
   "outputs": [],
   "source": [
    "def GlobalScore(str1, str2, penalty, score_mat):\n",
    "    n = len(str1)\n",
    "    m = len(str2)\n",
    "    s = [[0 for x in range(m+1)] for y in range(n+1)]\n",
    "    \n",
    "    for i in range(n+1):\n",
    "        s[i][0] = -i*penalty\n",
    "    for j in range(m+1):\n",
    "        s[0][j] = -j*penalty\n",
    "    for i in range(1,n+1):\n",
    "        for j in range(1, m+1):\n",
    "            s[i][j] = max(s[i-1][j-1]+score_mat[(str1[i-1], str2[j-1])], s[i-1][j]-penalty, s[i][j-1]-penalty)\n",
    "    return [s[x][m] for x in range(n+1)]"
   ]
  },
  {
   "cell_type": "code",
   "execution_count": 92,
   "metadata": {
    "collapsed": true
   },
   "outputs": [],
   "source": [
    "mid = len(str2)//2\n",
    "f_col = GlobalScore(str1, str2[:mid], penalty, score_mat)\n",
    "b_col = GlobalScore(str1[::-1], str2[mid-1:][::-1], penalty, score_mat)[::-1]\n",
    "sum_col = map(lambda x,y:x+y, f_col, b_col)\n",
    "\n",
    "max_val = max(sum_col)\n",
    "index = sum_col.index(max_val)\n",
    "#mid_node = (max(enumerate(sum_col), key=lambda x: x[1])[0], mid)"
   ]
  },
  {
   "cell_type": "code",
   "execution_count": 93,
   "metadata": {
    "collapsed": false
   },
   "outputs": [],
   "source": [
    "# s is not the same as global score \n",
    "def LinearScore(str1, str2, penalty, score_mat):\n",
    "    s = [[-penalty*y, 0] for y in range(len(str1)+1)]\n",
    "    s[0][1] = -penalty\n",
    "    for j in range(1, len(str2)+1):\n",
    "        for i in range(1, len(str1)+1):\n",
    "            j1 = (j-1)%2\n",
    "            j2 = j%2\n",
    "            s[0][j2] = -penalty*j\n",
    "            s[i][j2] = max(s[i-1][j1]+score_mat[(str1[i-1], str2[j-1])], s[i-1][j2]-penalty, s[i][j1]-penalty)\n",
    "\n",
    "    return s, len(str2)%2"
   ]
  },
  {
   "cell_type": "code",
   "execution_count": 94,
   "metadata": {
    "collapsed": true
   },
   "outputs": [],
   "source": [
    "def MiddleEdge(str1, str2, penalty, score_mat):\n",
    "    mid = len(str2)//2\n",
    "    f, idx_f = LinearScore(str1, str2[:mid], 5, score_mat)\n",
    "    b, idx_b = LinearScore(str1[::-1], str2[mid-1:][::-1], 5, score_mat)\n",
    "    b = b[::-1]\n",
    "    sum_col = map(lambda x,y:x+y, [col[idx_f] for col in f], [col[idx_b] for col in b])\n",
    "    \n",
    "    mid_node = (max(enumerate(sum_col), key=lambda x: x[1])[0], mid)\n",
    "    \n",
    "    #down\n",
    "    if b[mid_node[0]+1][idx_b] == b[mid_node[0]][idx_b] + penalty:\n",
    "        mid_node_to = (mid_node[0]+1, mid_node[1])\n",
    "    # right\n",
    "    elif b[mid_node[0]][idx_b^1] == b[mid_node[0]][idx_b] + penalty:\n",
    "        mid_node_to = (mid_node[0], mid_node[1]+1)\n",
    "    else: #diagnal\n",
    "        mid_node_to = (mid_node[0]+1, mid_node[1]+1)\n",
    "    print mid_node, mid_node_to \n"
   ]
  },
  {
   "cell_type": "code",
   "execution_count": 95,
   "metadata": {
    "collapsed": false,
    "scrolled": true
   },
   "outputs": [
    {
     "name": "stdout",
     "output_type": "stream",
     "text": [
      "(4, 3) (5, 4)\n"
     ]
    }
   ],
   "source": [
    "MiddleEdge(str1, str2, 5, blosum62_update)"
   ]
  },
  {
   "cell_type": "markdown",
   "metadata": {},
   "source": [
    "### BA5J | Alignment with Affine Gap Penalties Problem"
   ]
  },
  {
   "cell_type": "code",
   "execution_count": 99,
   "metadata": {
    "collapsed": true
   },
   "outputs": [],
   "source": [
    "with open('../data/rosalind_ba5j.txt') as f:\n",
    "    str1, str2 = (string.strip() for string in f.readlines())"
   ]
  },
  {
   "cell_type": "code",
   "execution_count": 100,
   "metadata": {
    "collapsed": true
   },
   "outputs": [],
   "source": [
    "def AffineGapAlignment(str1, str2, score_mat):\n",
    "    n = len(str1)\n",
    "    m = len(str2)\n",
    "    s_lower = [[0 for x in range(m+1)] for y in range(n+1)]\n",
    "    s_middle = [[0 for x in range(m+1)] for y in range(n+1)]\n",
    "    s_upper = [[0 for x in range(m+1)] for y in range(n+1)]\n",
    "\n",
    "    b_lower = [[0 for x in range(m+1)] for y in range(n+1)]\n",
    "    b_middle = [[0 for x in range(m+1)] for y in range(n+1)]\n",
    "    b_upper = [[0 for x in range(m+1)] for y in range(n+1)]\n",
    "\n",
    "    open_penalty = -11\n",
    "    ext_penalty = -1\n",
    "\n",
    "    #init\n",
    "    for i in range(n+1):\n",
    "        s_lower[i][0] = open_penalty +(i-1)*ext_penalty\n",
    "        s_middle[i][0] = open_penalty + (i-1)*ext_penalty\n",
    "        s_upper[i][0] = -float('inf')\n",
    "    for j in range(m+1):\n",
    "        s_upper[0][j] = open_penalty + (j-1)*ext_penalty\n",
    "        s_middle[0][j] = open_penalty + (j-1)*ext_penalty\n",
    "        s_lower[0][j] = -float('inf')\n",
    "    s_middle[0][0] = 0\n",
    "    \n",
    "    for i in range(1,n+1):\n",
    "        for j in range(1, m+1):\n",
    "            s_lower[i][j] = max([s_middle[i-1][j]+open_penalty, s_lower[i-1][j]+ext_penalty])\n",
    "            b_lower[i][j] = [s_middle[i-1][j]+open_penalty, s_lower[i-1][j]+ext_penalty].index(s_lower[i][j])\n",
    "\n",
    "            s_upper[i][j] = max([s_middle[i][j-1]+open_penalty, s_upper[i][j-1]+ext_penalty])\n",
    "            b_upper[i][j] = [s_middle[i][j-1]+open_penalty, s_upper[i][j-1]+ext_penalty].index(s_upper[i][j])\n",
    "\n",
    "            s_middle[i][j] = max([s_middle[i-1][j-1]+score_mat[(str1[i-1], str2[j-1])], s_lower[i][j], s_upper[i][j]])\n",
    "            b_middle[i][j] = [s_middle[i-1][j-1]+score_mat[(str1[i-1], str2[j-1])], s_lower[i][j], s_upper[i][j]].index(s_middle[i][j])\n",
    "            \n",
    "    align1, align2 = '', ''\n",
    "    i, j = n, m\n",
    "    curr = 2 # max at middle matrix \n",
    "    while (i >0 ) and (j > 0):\n",
    "        if curr == 0:\n",
    "            if b_lower[i][j] == 0:\n",
    "                curr = 2\n",
    "            align1 += str1[i-1]\n",
    "            align2 += '-'\n",
    "            i = i-1\n",
    "\n",
    "        elif curr == 1:\n",
    "            if b_upper[i][j] == 0:\n",
    "                curr = 2\n",
    "            align1 += '-'\n",
    "            align2 += str2[j-1]\n",
    "            j = j-1\n",
    "\n",
    "        elif curr == 2:\n",
    "            if b_middle[i][j] == 0:\n",
    "                align1 += str1[i-1]\n",
    "                align2 += str2[j-1]\n",
    "                i = i-1\n",
    "                j = j-1\n",
    "            elif b_middle[i][j] == 1:\n",
    "                curr = 0\n",
    "            elif b_middle[i][j] == 2:\n",
    "                curr = 1\n",
    "\n",
    "    print s_middle[n][m]\n",
    "    print align1[::-1]\n",
    "    print align2[::-1]\n",
    "    \n",
    "    return s_middle[n][m]"
   ]
  },
  {
   "cell_type": "code",
   "execution_count": 101,
   "metadata": {
    "collapsed": false
   },
   "outputs": [
    {
     "name": "stdout",
     "output_type": "stream",
     "text": [
      "8\n",
      "PRT---EINS\n",
      "PRTWPSEIN-\n"
     ]
    },
    {
     "data": {
      "text/plain": [
       "8"
      ]
     },
     "execution_count": 101,
     "metadata": {},
     "output_type": "execute_result"
    }
   ],
   "source": [
    "AffineGapAlignment(str1, str2, score_mat)"
   ]
  }
 ],
 "metadata": {
  "kernelspec": {
   "display_name": "Python 2",
   "language": "python",
   "name": "python2"
  },
  "language_info": {
   "codemirror_mode": {
    "name": "ipython",
    "version": 2
   },
   "file_extension": ".py",
   "mimetype": "text/x-python",
   "name": "python",
   "nbconvert_exporter": "python",
   "pygments_lexer": "ipython2",
   "version": "2.7.13"
  }
 },
 "nbformat": 4,
 "nbformat_minor": 2
}
