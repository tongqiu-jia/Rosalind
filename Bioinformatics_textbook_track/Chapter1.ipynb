{
 "cells": [
  {
   "cell_type": "markdown",
   "metadata": {
    "collapsed": true
   },
   "source": [
    "## Chapter 1"
   ]
  },
  {
   "cell_type": "markdown",
   "metadata": {},
   "source": [
    "#### BA1A | Compute the Number of Times a Pattern Appears in a Text"
   ]
  },
  {
   "cell_type": "code",
   "execution_count": 1,
   "metadata": {
    "collapsed": false
   },
   "outputs": [],
   "source": [
    "def PatternCount(text, pattern):\n",
    "    count = 0\n",
    "    pattern_length = len(pattern)\n",
    "    for i in range(len(text)- pattern_length +1):\n",
    "        if text[i:i+pattern_length] == pattern:\n",
    "            count += 1\n",
    "    return count"
   ]
  },
  {
   "cell_type": "code",
   "execution_count": 2,
   "metadata": {
    "collapsed": false
   },
   "outputs": [
    {
     "data": {
      "text/plain": [
       "2"
      ]
     },
     "execution_count": 2,
     "metadata": {},
     "output_type": "execute_result"
    }
   ],
   "source": [
    "PatternCount('GCGCG','GCG')"
   ]
  },
  {
   "cell_type": "markdown",
   "metadata": {},
   "source": [
    "#### BA1B | Find the Most Frequent Words in a String"
   ]
  },
  {
   "cell_type": "code",
   "execution_count": 3,
   "metadata": {
    "collapsed": false
   },
   "outputs": [],
   "source": [
    "def MostFreqKmer(text, k):\n",
    "    kmers = {}\n",
    "    for i in range(len(text)-k+1):\n",
    "        kmer = text[i:i+k]\n",
    "        if kmer in kmers:\n",
    "            kmers[kmer] += 1\n",
    "        else:\n",
    "            kmers[kmer] = 1\n",
    "    kmers_sorted = sorted(kmers, key=kmers.get, reverse=True)\n",
    "    max_count = kmers[kmers_sorted[0]]\n",
    "    for kmer in kmers_sorted:\n",
    "        if kmers[kmer] == max_count:\n",
    "            print kmer\n",
    "        else:\n",
    "            break\n",
    "    "
   ]
  },
  {
   "cell_type": "code",
   "execution_count": 4,
   "metadata": {
    "collapsed": false
   },
   "outputs": [
    {
     "name": "stdout",
     "output_type": "stream",
     "text": [
      "CATG\n",
      "GCAT\n"
     ]
    }
   ],
   "source": [
    "MostFreqKmer('ACGTTGCATGTCGCATGATGCATGAGAGCT', 4)"
   ]
  },
  {
   "cell_type": "markdown",
   "metadata": {},
   "source": [
    "#### BA1C | Find the Reverse Complement of a String"
   ]
  },
  {
   "cell_type": "code",
   "execution_count": 5,
   "metadata": {
    "collapsed": true
   },
   "outputs": [],
   "source": [
    "def ReverseComplement(dna):\n",
    "    comp = ''\n",
    "    for nt in dna:\n",
    "        if nt == 'A':\n",
    "            comp += 'T'\n",
    "        elif nt == 'T':\n",
    "            comp += 'A'\n",
    "        elif nt == 'G':\n",
    "            comp += 'C'\n",
    "        elif nt == 'C':\n",
    "            comp += 'G'\n",
    "    return comp[::-1]"
   ]
  },
  {
   "cell_type": "code",
   "execution_count": 6,
   "metadata": {
    "collapsed": false
   },
   "outputs": [
    {
     "data": {
      "text/plain": [
       "'ACCGGGTTTT'"
      ]
     },
     "execution_count": 6,
     "metadata": {},
     "output_type": "execute_result"
    }
   ],
   "source": [
    "ReverseComplement('AAAACCCGGT')"
   ]
  },
  {
   "cell_type": "markdown",
   "metadata": {},
   "source": [
    "#### BA1D | Find All Occurrences of a Pattern in a String"
   ]
  },
  {
   "cell_type": "code",
   "execution_count": 7,
   "metadata": {
    "collapsed": true
   },
   "outputs": [],
   "source": [
    "def AllOccurrences(pattern, genome):\n",
    "    for i in range(len(genome)-len(pattern)+1):\n",
    "        if genome[i:i+len(pattern)] == pattern:\n",
    "            print i,"
   ]
  },
  {
   "cell_type": "code",
   "execution_count": 8,
   "metadata": {
    "collapsed": false
   },
   "outputs": [
    {
     "name": "stdout",
     "output_type": "stream",
     "text": [
      "1 3 9\n"
     ]
    }
   ],
   "source": [
    "AllOccurrences('ATAT', 'GATATATGCATATACTT')"
   ]
  },
  {
   "cell_type": "markdown",
   "metadata": {},
   "source": [
    "#### BA1E | Find Patterns Forming Clumps in a String"
   ]
  },
  {
   "cell_type": "code",
   "execution_count": 9,
   "metadata": {
    "collapsed": true
   },
   "outputs": [],
   "source": [
    "def FindClumps(genome, k, L, t):\n",
    "    clumps = set()\n",
    "    # Sliding window of size L\n",
    "    for i in range(len(genome)-L+1):\n",
    "        L_window = genome[i:i+L]\n",
    "        kmers = {}\n",
    "        # Get kmer counts inside each L_window\n",
    "        for j in range(len(L_window)-k+1):\n",
    "            kmer = L_window[j:j+k] \n",
    "            if kmer in kmers:\n",
    "                kmers[kmer] += 1\n",
    "            else:\n",
    "                kmers[kmer] = 1\n",
    "        kmers_sorted = sorted(kmers, key=kmers.get, reverse=True)\n",
    "        max_count = kmers[kmers_sorted[0]]\n",
    "        if max_count >= t:\n",
    "            for kmer in kmers_sorted:\n",
    "                if kmers[kmer]>= t:\n",
    "                    clumps.add(kmer)\n",
    "    for c in clumps:\n",
    "        print c\n",
    "    return clumps"
   ]
  },
  {
   "cell_type": "code",
   "execution_count": 10,
   "metadata": {
    "collapsed": false,
    "scrolled": true
   },
   "outputs": [
    {
     "name": "stdout",
     "output_type": "stream",
     "text": [
      "CGACA\n",
      "GAAGA\n",
      "AATGT\n"
     ]
    },
    {
     "data": {
      "text/plain": [
       "{'AATGT', 'CGACA', 'GAAGA'}"
      ]
     },
     "execution_count": 10,
     "metadata": {},
     "output_type": "execute_result"
    }
   ],
   "source": [
    "FindClumps('CGGACTCGACAGATGTGAAGAAATGTGAAGACTGAGTGAAGAGAAGAGGAAACACGACACGACATTGCGACATAATGTACGAATGTAATGTGCCTATGGC', 5, 75, 4)"
   ]
  },
  {
   "cell_type": "markdown",
   "metadata": {},
   "source": [
    "#### BA1F | Find a Position in a Genome Minimizing the Skew"
   ]
  },
  {
   "cell_type": "code",
   "execution_count": 11,
   "metadata": {
    "collapsed": false
   },
   "outputs": [],
   "source": [
    "# This function runs really slow on Jupyter Notebook, but ok from bash\n",
    "def MinimumSkew(genome):\n",
    "    skew = 0\n",
    "    min_skew = 999\n",
    "    skew_dict = {}\n",
    "    for i, nt in enumerate(genome):\n",
    "        if nt == 'G':\n",
    "            skew += 1\n",
    "        elif nt == 'C':\n",
    "            skew += -1\n",
    "        if skew <= min_skew:\n",
    "            if skew in skew_dict:\n",
    "                skew_dict[skew] += [i+1]\n",
    "            else:\n",
    "                skew_dict[skew] = [i+1]\n",
    "            min_skew = skew\n",
    "    return skew_dict[min_skew]     "
   ]
  },
  {
   "cell_type": "code",
   "execution_count": 12,
   "metadata": {
    "collapsed": false
   },
   "outputs": [
    {
     "data": {
      "text/plain": [
       "[53, 97]"
      ]
     },
     "execution_count": 12,
     "metadata": {},
     "output_type": "execute_result"
    }
   ],
   "source": [
    "MinimumSkew('CCTATCGGTGGATTAGCATGTCCCTGTACGTTTCGCCGCGAACTAGTTCACACGGCTTGATGGCAAATGGTTTTTCCGGCGACCGTAATCGTCCACCGAG')"
   ]
  },
  {
   "cell_type": "markdown",
   "metadata": {},
   "source": [
    "#### BA1G | Compute the Hamming Distance Between Two Strings"
   ]
  },
  {
   "cell_type": "code",
   "execution_count": 13,
   "metadata": {
    "collapsed": true
   },
   "outputs": [],
   "source": [
    "def HammingDist(string1, string2):\n",
    "    dist = 0\n",
    "    for i, nt in enumerate(string1):\n",
    "        if nt != string2[i]:\n",
    "            dist += 1\n",
    "    return dist"
   ]
  },
  {
   "cell_type": "code",
   "execution_count": 14,
   "metadata": {
    "collapsed": false
   },
   "outputs": [
    {
     "data": {
      "text/plain": [
       "3"
      ]
     },
     "execution_count": 14,
     "metadata": {},
     "output_type": "execute_result"
    }
   ],
   "source": [
    "HammingDist('GGGCCGTTGGT','GGACCGTTGAC')"
   ]
  },
  {
   "cell_type": "markdown",
   "metadata": {},
   "source": [
    "#### BA1H | Find All Approximate Occurrences of a Pattern in a String"
   ]
  },
  {
   "cell_type": "code",
   "execution_count": 15,
   "metadata": {
    "collapsed": true
   },
   "outputs": [],
   "source": [
    "def HammingDist(string1, string2):\n",
    "    dist = 0\n",
    "    for i, nt in enumerate(string1):\n",
    "        if nt != string2[i]:\n",
    "            dist += 1\n",
    "    return dist"
   ]
  },
  {
   "cell_type": "code",
   "execution_count": 16,
   "metadata": {
    "collapsed": true
   },
   "outputs": [],
   "source": [
    "def ApproxPatternMatching(pattern, text, d):\n",
    "    for i in range(len(text)-len(pattern)+1):\n",
    "        if HammingDist(pattern, text[i:i+len(pattern)]) <= d:\n",
    "            print i,"
   ]
  },
  {
   "cell_type": "code",
   "execution_count": 17,
   "metadata": {
    "collapsed": false
   },
   "outputs": [
    {
     "name": "stdout",
     "output_type": "stream",
     "text": [
      "6 7 26 27 78\n"
     ]
    }
   ],
   "source": [
    "ApproxPatternMatching('ATTCTGGA','CGCCCGAATCCAGAACGCATTCCCATATTTCGGGACCACTGGCCTCCACGGTACGGACGTCAATCAAATGCCTAGCGGCTTGTGGTTTCTCCTACGCTCC', 3)"
   ]
  },
  {
   "cell_type": "markdown",
   "metadata": {},
   "source": [
    "#### BA1I | Find the Most Frequent Words with Mismatches in a String"
   ]
  },
  {
   "cell_type": "code",
   "execution_count": 18,
   "metadata": {
    "collapsed": true
   },
   "outputs": [],
   "source": [
    "def HammingDist(string1, string2):\n",
    "    dist = 0\n",
    "    for i, nt in enumerate(string1):\n",
    "        if nt != string2[i]:\n",
    "            dist += 1\n",
    "    return dist"
   ]
  },
  {
   "cell_type": "code",
   "execution_count": 19,
   "metadata": {
    "collapsed": true
   },
   "outputs": [],
   "source": [
    "def Neighbors(pattern, d):\n",
    "    if d == 0:\n",
    "        return {pattern}\n",
    "    nucleotides = {'A','C','G','T'}\n",
    "    if len(pattern) == 1:\n",
    "        return nucleotides\n",
    "    neighborhood = set()\n",
    "    suffix_neighbors = Neighbors(pattern[1:],d)\n",
    "    for text in suffix_neighbors:\n",
    "        if HammingDist(pattern[1:],text) < d:\n",
    "            for base in nucleotides:\n",
    "                neighborhood.add(base+text)\n",
    "        else:\n",
    "            neighborhood.add(pattern[0]+text)\n",
    "\n",
    "    return neighborhood"
   ]
  },
  {
   "cell_type": "code",
   "execution_count": 20,
   "metadata": {
    "collapsed": true
   },
   "outputs": [],
   "source": [
    "def MostFreqWordsWithMismatch(text, k, d):\n",
    "    kmers = {}\n",
    "    for i in range(len(text)-k+1):\n",
    "        for kmer in Neighbors(text[i:i+k], d): \n",
    "            if kmer in kmers:\n",
    "                kmers[kmer] += 1\n",
    "            else:\n",
    "                kmers[kmer] = 1\n",
    "    kmers_sorted = sorted(kmers, key=kmers.get, reverse=True)\n",
    "    max_count = kmers[kmers_sorted[0]]\n",
    "    for kmer in kmers_sorted:\n",
    "        if kmers[kmer] == max_count:\n",
    "            print kmer\n",
    "        else:\n",
    "            break"
   ]
  },
  {
   "cell_type": "code",
   "execution_count": 21,
   "metadata": {
    "collapsed": false
   },
   "outputs": [
    {
     "name": "stdout",
     "output_type": "stream",
     "text": [
      "GATG\n",
      "ATGC\n",
      "ATGT\n"
     ]
    }
   ],
   "source": [
    "MostFreqWordsWithMismatch('ACGTTGCATGTCGCATGATGCATGAGAGCT', 4, 1)"
   ]
  },
  {
   "cell_type": "markdown",
   "metadata": {},
   "source": [
    "#### BA1J | Find Frequent Words with Mismatches and Reverse Complements"
   ]
  },
  {
   "cell_type": "code",
   "execution_count": 22,
   "metadata": {
    "collapsed": true
   },
   "outputs": [],
   "source": [
    "def ReverseComplement(dna):\n",
    "    comp = ''\n",
    "    for nt in dna:\n",
    "        if nt == 'A':\n",
    "            comp += 'T'\n",
    "        elif nt == 'T':\n",
    "            comp += 'A'\n",
    "        elif nt == 'G':\n",
    "            comp += 'C'\n",
    "        elif nt == 'C':\n",
    "            comp += 'G'\n",
    "    return comp[::-1]"
   ]
  },
  {
   "cell_type": "code",
   "execution_count": 23,
   "metadata": {
    "collapsed": true
   },
   "outputs": [],
   "source": [
    "def HammingDist(string1, string2):\n",
    "    dist = 0\n",
    "    for i, nt in enumerate(string1):\n",
    "        if nt != string2[i]:\n",
    "            dist += 1\n",
    "    return dist"
   ]
  },
  {
   "cell_type": "code",
   "execution_count": 24,
   "metadata": {
    "collapsed": true
   },
   "outputs": [],
   "source": [
    "def Neighbors(pattern, d):\n",
    "    if d == 0:\n",
    "        return {pattern}\n",
    "    nucleotides = {'A','C','G','T'}\n",
    "    if len(pattern) == 1:\n",
    "        return nucleotides\n",
    "    neighborhood = set()\n",
    "    suffix_neighbors = Neighbors(pattern[1:],d)\n",
    "    for text in suffix_neighbors:\n",
    "        if HammingDist(pattern[1:],text) < d:\n",
    "            for base in nucleotides:\n",
    "                neighborhood.add(base+text)\n",
    "        else:\n",
    "            neighborhood.add(pattern[0]+text)\n",
    "\n",
    "    return neighborhood"
   ]
  },
  {
   "cell_type": "code",
   "execution_count": 25,
   "metadata": {
    "collapsed": true
   },
   "outputs": [],
   "source": [
    "def MostFreqWordsWithMismatchAndReverseComplements(text, k, d):\n",
    "    kmers = {}\n",
    "    for i in range(len(text)-k+1):\n",
    "        for kmer in Neighbors(text[i:i+k], d): \n",
    "            if kmer in kmers:\n",
    "                kmers[kmer] += 1\n",
    "            else:\n",
    "                kmers[kmer] = 1\n",
    "        for kmer_rev in Neighbors(ReverseComplement(text[i:i+k]), d):\n",
    "            if kmer_rev in kmers:\n",
    "                kmers[kmer_rev] += 1\n",
    "            else:\n",
    "                kmers[kmer_rev] = 1            \n",
    "    kmers_sorted = sorted(kmers, key=kmers.get, reverse=True)\n",
    "    max_count = kmers[kmers_sorted[0]]\n",
    "    for kmer in kmers_sorted:\n",
    "        if kmers[kmer] == max_count:\n",
    "            print kmer\n",
    "        else:\n",
    "            break"
   ]
  },
  {
   "cell_type": "code",
   "execution_count": 26,
   "metadata": {
    "collapsed": false
   },
   "outputs": [
    {
     "name": "stdout",
     "output_type": "stream",
     "text": [
      "ATGT\n",
      "ACAT\n"
     ]
    }
   ],
   "source": [
    "MostFreqWordsWithMismatchAndReverseComplements('ACGTTGCATGTCGCATGATGCATGAGAGCT', 4, 1)"
   ]
  },
  {
   "cell_type": "markdown",
   "metadata": {},
   "source": [
    "#### BA1K | Generate the Frequency Array of a String"
   ]
  },
  {
   "cell_type": "code",
   "execution_count": 27,
   "metadata": {
    "collapsed": true
   },
   "outputs": [],
   "source": [
    "def PatternToNum(pattern):\n",
    "    k = len(pattern)-1\n",
    "    num = 0\n",
    "    for i in range(len(pattern)):\n",
    "        if pattern[i] == 'A':\n",
    "            num += 0*(4**(k-i))\n",
    "        elif pattern[i] == 'C':\n",
    "            num += 1*(4**(k-i))\n",
    "        elif pattern[i] == 'G':\n",
    "            num += 2*(4**(k-i))\n",
    "        elif pattern[i] == 'T':\n",
    "            num += 3*(4**(k-i))\n",
    "    return num"
   ]
  },
  {
   "cell_type": "code",
   "execution_count": 28,
   "metadata": {
    "collapsed": true
   },
   "outputs": [],
   "source": [
    "def FrequencyArray(text, k):\n",
    "    freq_array = [0]*(4**k)\n",
    "    for i in range(len(text)-k+1):\n",
    "        pat_num = PatternToNum(text[i:i+k])\n",
    "        freq_array[pat_num] = freq_array[pat_num]+1\n",
    "    return freq_array           "
   ]
  },
  {
   "cell_type": "code",
   "execution_count": 29,
   "metadata": {
    "collapsed": false,
    "scrolled": true
   },
   "outputs": [
    {
     "data": {
      "text/plain": [
       "[2, 1, 0, 0, 0, 0, 2, 2, 1, 2, 1, 0, 0, 1, 1, 0]"
      ]
     },
     "execution_count": 29,
     "metadata": {},
     "output_type": "execute_result"
    }
   ],
   "source": [
    "FrequencyArray('ACGCGGCTCTGAAA', 2)"
   ]
  },
  {
   "cell_type": "markdown",
   "metadata": {},
   "source": [
    "#### BA1L | Implement PatternToNumber"
   ]
  },
  {
   "cell_type": "code",
   "execution_count": 30,
   "metadata": {
    "collapsed": true
   },
   "outputs": [],
   "source": [
    "def PatternToNum(pattern):\n",
    "    k = len(pattern)-1\n",
    "    num = 0\n",
    "    for i in range(len(pattern)):\n",
    "        if pattern[i] == 'A':\n",
    "            num += 0*(4**(k-i))\n",
    "        elif pattern[i] == 'C':\n",
    "            num += 1*(4**(k-i))\n",
    "        elif pattern[i] == 'G':\n",
    "            num += 2*(4**(k-i))\n",
    "        elif pattern[i] == 'T':\n",
    "            num += 3*(4**(k-i))\n",
    "    return num"
   ]
  },
  {
   "cell_type": "code",
   "execution_count": 31,
   "metadata": {
    "collapsed": false
   },
   "outputs": [
    {
     "data": {
      "text/plain": [
       "11"
      ]
     },
     "execution_count": 31,
     "metadata": {},
     "output_type": "execute_result"
    }
   ],
   "source": [
    "PatternToNum('AGT')"
   ]
  },
  {
   "cell_type": "markdown",
   "metadata": {},
   "source": [
    "#### BA1M | Implement NumberToPattern"
   ]
  },
  {
   "cell_type": "code",
   "execution_count": 32,
   "metadata": {
    "collapsed": true
   },
   "outputs": [],
   "source": [
    "def NumToPattern(integer,k):\n",
    "    num_str = \"\"\n",
    "    for i in range(k):\n",
    "        remainder = (integer/(4**(k-i-1)))%4\n",
    "        if remainder == 0:\n",
    "            num_str += \"A\"\n",
    "        elif remainder == 1:\n",
    "            num_str += \"C\"\n",
    "        elif remainder == 2:\n",
    "            num_str += \"G\"\n",
    "        elif remainder == 3:\n",
    "            num_str += \"T\"\n",
    "    return num_str"
   ]
  },
  {
   "cell_type": "code",
   "execution_count": 33,
   "metadata": {
    "collapsed": false
   },
   "outputs": [
    {
     "data": {
      "text/plain": [
       "'AGTC'"
      ]
     },
     "execution_count": 33,
     "metadata": {},
     "output_type": "execute_result"
    }
   ],
   "source": [
    "NumToPattern(45, 4)"
   ]
  },
  {
   "cell_type": "markdown",
   "metadata": {},
   "source": [
    "#### BA1N | Generate the d-Neighborhood of a String"
   ]
  },
  {
   "cell_type": "code",
   "execution_count": 34,
   "metadata": {
    "collapsed": true
   },
   "outputs": [],
   "source": [
    "def HammingDist(string1, string2):\n",
    "    dist = 0\n",
    "    for i, nt in enumerate(string1):\n",
    "        if nt != string2[i]:\n",
    "            dist += 1\n",
    "    return dist"
   ]
  },
  {
   "cell_type": "code",
   "execution_count": 35,
   "metadata": {
    "collapsed": true
   },
   "outputs": [],
   "source": [
    "def Neighbors(pattern, d):\n",
    "    if d == 0:\n",
    "        return {pattern}\n",
    "    nucleotides = {'A','C','G','T'}\n",
    "    if len(pattern) == 1:\n",
    "        return nucleotides\n",
    "    neighborhood = set()\n",
    "    suffix_neighbors = Neighbors(pattern[1:],d)\n",
    "    for text in suffix_neighbors:\n",
    "        if HammingDist(pattern[1:],text) < d:\n",
    "            for base in nucleotides:\n",
    "                neighborhood.add(base+text)\n",
    "        else:\n",
    "            neighborhood.add(pattern[0]+text)\n",
    "\n",
    "    return neighborhood"
   ]
  },
  {
   "cell_type": "code",
   "execution_count": 36,
   "metadata": {
    "collapsed": false
   },
   "outputs": [
    {
     "name": "stdout",
     "output_type": "stream",
     "text": [
      "ACC ATG AAG ACG GCG AGG ACA ACT TCG CCG\n"
     ]
    }
   ],
   "source": [
    "for n in Neighbors('ACG', 1):\n",
    "    print n,"
   ]
  }
 ],
 "metadata": {
  "kernelspec": {
   "display_name": "Python 2",
   "language": "python",
   "name": "python2"
  },
  "language_info": {
   "codemirror_mode": {
    "name": "ipython",
    "version": 2
   },
   "file_extension": ".py",
   "mimetype": "text/x-python",
   "name": "python",
   "nbconvert_exporter": "python",
   "pygments_lexer": "ipython2",
   "version": "2.7.13"
  }
 },
 "nbformat": 4,
 "nbformat_minor": 2
}
